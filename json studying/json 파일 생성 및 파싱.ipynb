{
 "cells": [
  {
   "cell_type": "code",
   "execution_count": 1,
   "metadata": {},
   "outputs": [],
   "source": [
    "import json\n",
    "from collections import OrderedDict"
   ]
  },
  {
   "cell_type": "code",
   "execution_count": 2,
   "metadata": {},
   "outputs": [],
   "source": [
    "# Ready for data\n",
    "group_data = OrderedDict()\n",
    "albums = OrderedDict()\n",
    " \n",
    "group_data[\"name\"] = \"여자친구\"\n",
    "group_data[\"members\"] = [\"소원\", \"예린\", \"은하\", \"유주\", \"신비\", \"엄지\"]\n",
    " \n",
    "albums[\"EP 1집\"] = \"Season of Glass\"\n",
    "albums[\"EP 2집\"] = \"Flower Bud\"\n",
    "albums[\"EP 3집\"] = \"Snowflake\"\n",
    "albums[\"정규 1집\"] = \"LOL\"\n",
    "albums[\"EP 4집\"] = \"THE AWAKENING\"\n",
    " \n",
    "group_data[\"albums\"] = albums"
   ]
  },
  {
   "cell_type": "code",
   "execution_count": 3,
   "metadata": {},
   "outputs": [
    {
     "name": "stdout",
     "output_type": "stream",
     "text": [
      "{\n",
      "\t\"name\": \"여자친구\",\n",
      "\t\"members\": [\n",
      "\t\t\"소원\",\n",
      "\t\t\"예린\",\n",
      "\t\t\"은하\",\n",
      "\t\t\"유주\",\n",
      "\t\t\"신비\",\n",
      "\t\t\"엄지\"\n",
      "\t],\n",
      "\t\"albums\": {\n",
      "\t\t\"EP 1집\": \"Season of Glass\",\n",
      "\t\t\"EP 2집\": \"Flower Bud\",\n",
      "\t\t\"EP 3집\": \"Snowflake\",\n",
      "\t\t\"정규 1집\": \"LOL\",\n",
      "\t\t\"EP 4집\": \"THE AWAKENING\"\n",
      "\t}\n",
      "}\n"
     ]
    }
   ],
   "source": [
    "# Print JSON\n",
    "print(json.dumps(group_data, ensure_ascii=False, indent=\"\\t\") )"
   ]
  },
  {
   "cell_type": "code",
   "execution_count": 4,
   "metadata": {},
   "outputs": [],
   "source": [
    "# Write JSON\n",
    "with open('gfriend.json', 'w', encoding=\"utf-8\") as make_file:\n",
    "    json.dump(group_data, make_file, ensure_ascii=False, indent=\"\\t\")"
   ]
  },
  {
   "cell_type": "code",
   "execution_count": 7,
   "metadata": {},
   "outputs": [
    {
     "name": "stdout",
     "output_type": "stream",
     "text": [
      "OrderedDict([('name', '여자친구'),\n",
      "             ('members', ['소원', '예린', '은하', '유주', '신비', '엄지']),\n",
      "             ('albums',\n",
      "              OrderedDict([('EP 1집', 'Season of Glass'),\n",
      "                           ('EP 2집', 'Flower Bud'),\n",
      "                           ('EP 3집', 'Snowflake'),\n",
      "                           ('정규 1집', 'LOL'),\n",
      "                           ('EP 4집', 'THE AWAKENING')]))])\n"
     ]
    }
   ],
   "source": [
    "import json\n",
    "from collections import OrderedDict\n",
    "from pprint import pprint\n",
    "\n",
    "with open('gfriend.json', encoding=\"utf-8\") as data_file:    \n",
    "    data = json.load(data_file, object_pairs_hook=OrderedDict)\n",
    "\n",
    "pprint(data)"
   ]
  },
  {
   "cell_type": "code",
   "execution_count": 20,
   "metadata": {},
   "outputs": [],
   "source": [
    "import json\n",
    "from collections import OrderedDict"
   ]
  },
  {
   "cell_type": "code",
   "execution_count": 21,
   "metadata": {},
   "outputs": [
    {
     "name": "stdout",
     "output_type": "stream",
     "text": [
      "걸그룹 여자친구에 대한 정보는 다음과 같습니다:\n",
      "\n",
      " 멤버: 소원, 예린, 은하, 유주, 신비, 엄지\n",
      "\n",
      " [앨범 목록]\n",
      "  * EP 1집: Season of Glass\n",
      "  * EP 2집: Flower Bud\n",
      "  * EP 3집: Snowflake\n",
      "  * 정규 1집: LOL\n",
      "  * EP 4집: THE AWAKENING\n"
     ]
    }
   ],
   "source": [
    "with open('gfriend.json', encoding=\"utf-8\") as data_file:    \n",
    "    data = json.load(data_file, object_pairs_hook=OrderedDict)\n",
    "\n",
    "# Print\n",
    "print(\"걸그룹 %s에 대한 정보는 다음과 같습니다:\" % data[\"name\"], end=\"\\n\\n\")\n",
    " \n",
    "print(\" 멤버: \", end=\"\")\n",
    "for index, member in enumerate(data[\"members\"]):\n",
    "    if index > 0: print(\", \", end=\"\")\n",
    "    print(member, end=\"\")\n",
    "    \n",
    "print(\"\\n\\n [앨범 목록]\")\n",
    "for album, title in data[\"albums\"].items():\n",
    "    print(\"  * %s: %s\" % (album, title) )"
   ]
  },
  {
   "cell_type": "code",
   "execution_count": null,
   "metadata": {},
   "outputs": [],
   "source": []
  },
  {
   "cell_type": "code",
   "execution_count": null,
   "metadata": {},
   "outputs": [],
   "source": []
  }
 ],
 "metadata": {
  "kernelspec": {
   "display_name": "Python 3",
   "language": "python",
   "name": "python3"
  },
  "language_info": {
   "codemirror_mode": {
    "name": "ipython",
    "version": 3
   },
   "file_extension": ".py",
   "mimetype": "text/x-python",
   "name": "python",
   "nbconvert_exporter": "python",
   "pygments_lexer": "ipython3",
   "version": "3.6.8"
  }
 },
 "nbformat": 4,
 "nbformat_minor": 2
}
