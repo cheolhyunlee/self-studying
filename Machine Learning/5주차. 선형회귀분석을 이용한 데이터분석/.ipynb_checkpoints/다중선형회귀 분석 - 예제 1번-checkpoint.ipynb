{
 "cells": [
  {
   "cell_type": "code",
   "execution_count": 1,
   "metadata": {},
   "outputs": [],
   "source": [
    "import matplotlib as mpl\n",
    "import matplotlib.pyplot as plt\n",
    "from jupyterthemes import jtplot\n",
    "jtplot.style(theme = \"chesterish\")\n",
    "from matplotlib import font_manager, rc\n",
    "font_name = font_manager.FontProperties(fname = \"C:\\Windows\\Fonts\\malgun.ttf\").get_name()\n",
    "rc('font', family=font_name)\n",
    "mpl.rcParams['axes.unicode_minus'] = False\n",
    "%matplotlib inline"
   ]
  },
  {
   "cell_type": "code",
   "execution_count": 2,
   "metadata": {},
   "outputs": [],
   "source": [
    "from sklearn import linear_model # scikit learn 패키지에서 linear_model이라는 모듈을 불러들임\n",
    "import numpy as np\n",
    "import pandas as pd\n",
    "\n",
    "# matplotlib에는 사전에 정의한 많은 스타일이 있다.\n",
    "# ggplot도 그 중 하나임\n",
    "# R에서 사용하는 ggplot을 흉내내는 스타일을 사용하겠다고 선언\n",
    "mpl.style.use('ggplot')"
   ]
  },
  {
   "cell_type": "code",
   "execution_count": 3,
   "metadata": {},
   "outputs": [
    {
     "data": {
      "text/html": [
       "<div>\n",
       "<style scoped>\n",
       "    .dataframe tbody tr th:only-of-type {\n",
       "        vertical-align: middle;\n",
       "    }\n",
       "\n",
       "    .dataframe tbody tr th {\n",
       "        vertical-align: top;\n",
       "    }\n",
       "\n",
       "    .dataframe thead th {\n",
       "        text-align: right;\n",
       "    }\n",
       "</style>\n",
       "<table border=\"1\" class=\"dataframe\">\n",
       "  <thead>\n",
       "    <tr style=\"text-align: right;\">\n",
       "      <th></th>\n",
       "      <th>x1</th>\n",
       "      <th>x2</th>\n",
       "      <th>y</th>\n",
       "    </tr>\n",
       "  </thead>\n",
       "  <tbody>\n",
       "    <tr>\n",
       "      <th>0</th>\n",
       "      <td>13</td>\n",
       "      <td>9</td>\n",
       "      <td>20</td>\n",
       "    </tr>\n",
       "    <tr>\n",
       "      <th>1</th>\n",
       "      <td>18</td>\n",
       "      <td>7</td>\n",
       "      <td>22</td>\n",
       "    </tr>\n",
       "    <tr>\n",
       "      <th>2</th>\n",
       "      <td>17</td>\n",
       "      <td>17</td>\n",
       "      <td>30</td>\n",
       "    </tr>\n",
       "    <tr>\n",
       "      <th>3</th>\n",
       "      <td>20</td>\n",
       "      <td>11</td>\n",
       "      <td>27</td>\n",
       "    </tr>\n",
       "    <tr>\n",
       "      <th>4</th>\n",
       "      <td>22</td>\n",
       "      <td>8</td>\n",
       "      <td>35</td>\n",
       "    </tr>\n",
       "    <tr>\n",
       "      <th>5</th>\n",
       "      <td>21</td>\n",
       "      <td>10</td>\n",
       "      <td>32</td>\n",
       "    </tr>\n",
       "  </tbody>\n",
       "</table>\n",
       "</div>"
      ],
      "text/plain": [
       "   x1  x2   y\n",
       "0  13   9  20\n",
       "1  18   7  22\n",
       "2  17  17  30\n",
       "3  20  11  27\n",
       "4  22   8  35\n",
       "5  21  10  32"
      ]
     },
     "execution_count": 3,
     "metadata": {},
     "output_type": "execute_result"
    }
   ],
   "source": [
    "# 2차원 배열을 만들어 'data'라는 변수에 할당\n",
    "data = {'x1' : [13, 18, 17, 20, 22, 21],\n",
    "        'x2' : [9, 7, 17, 11, 8, 10],\n",
    "        'y' : [20, 22, 30, 27, 35, 32]}\n",
    "data = pd.DataFrame(data)\n",
    "data"
   ]
  },
  {
   "cell_type": "code",
   "execution_count": 4,
   "metadata": {},
   "outputs": [],
   "source": [
    "X = data[['x1','x2']]\n",
    "y = data['y']"
   ]
  },
  {
   "cell_type": "code",
   "execution_count": 5,
   "metadata": {},
   "outputs": [
    {
     "name": "stdout",
     "output_type": "stream",
     "text": [
      "a value = -7.359201773835938\n",
      "b value = [1.5443459  0.62472284]\n"
     ]
    }
   ],
   "source": [
    "# linear_model 모듈이 포함하고 있는 Linearregression() 함수를 'linear_regression'이라고 하는 변수에 할당\n",
    "linear_regression = linear_model.LinearRegression()\n",
    "\n",
    "# Linearregression()의 fit()이라는 함수를 이용하여 선형회귀 모델 훈련 실행\n",
    "# 이 때 독립변수는 x, 종속변수는 y\n",
    "linear_regression.fit(X = pd.DataFrame(X), y = y)\n",
    "\n",
    "# 선형 회귀식의 세로축 절편 'linear_regression.intercept_'를 구하여 출력한다.\n",
    "# 선형 회귀식의 기울기 'linear_regression.coef_'를 구하여 출력한다.\n",
    "print('a value =', linear_regression.intercept_)\n",
    "print('b value =', linear_regression.coef_)"
   ]
  },
  {
   "cell_type": "code",
   "execution_count": 6,
   "metadata": {
    "scrolled": false
   },
   "outputs": [
    {
     "name": "stdout",
     "output_type": "stream",
     "text": [
      "0    1.660200\n",
      "1   -2.812084\n",
      "2    0.485033\n",
      "3   -3.399667\n",
      "4    3.385809\n",
      "5    0.680710\n",
      "Name: y, dtype: float64\n"
     ]
    },
    {
     "data": {
      "text/plain": [
       "count    6.000000e+00\n",
       "mean     2.368476e-15\n",
       "std      2.622371e+00\n",
       "min     -3.399667e+00\n",
       "25%     -1.987805e+00\n",
       "50%      5.828714e-01\n",
       "75%      1.415327e+00\n",
       "max      3.385809e+00\n",
       "Name: y, dtype: float64"
      ]
     },
     "execution_count": 6,
     "metadata": {},
     "output_type": "execute_result"
    }
   ],
   "source": [
    "# 위에서 만들어진 선형회귀 모델을 적용하여 선형회귀 값을 구해본다.\n",
    "# 그 값을 prediction에 할당한다.\n",
    "prediction = linear_regression.predict(X = pd.DataFrame(X))\n",
    "\n",
    "# 실제 y값과 예측한 y값을 비교하여 잔차(residuals)를 구한다.\n",
    "residuals = y - prediction\n",
    "print(residuals)\n",
    "\n",
    "# 변수의 갯수(6개), 잔차의 평균값, 잔차의 표준편차, 최소값, 25% 값, 50% 값, 75% 값, 최대값을 출력한다.\n",
    "residuals.describe()"
   ]
  },
  {
   "cell_type": "code",
   "execution_count": 7,
   "metadata": {},
   "outputs": [
    {
     "name": "stdout",
     "output_type": "stream",
     "text": [
      "SSE = 34.38414634146345\n",
      "SST = 169.33333333333331\n",
      "R_squared = 0.796944017668523\n"
     ]
    }
   ],
   "source": [
    "# 잔차를 제곱하여 전체를 합침. 결과값을 SSE라는 변수에 할당\n",
    "SSE = (residuals**2).sum()\n",
    "print(\"SSE =\", SSE)\n",
    "\n",
    "# y값의 표준편차를 제곱한 것을 모두 합침. 그 결과값을 SST라는 변수에 할당\n",
    "SST = ((y-y.mean())**2).sum()\n",
    "print(\"SST =\", SST)\n",
    "\n",
    "# 결정계수 R을 구함\n",
    "R_squared = 1 - (SSE/SST)\n",
    "print(\"R_squared =\", R_squared)"
   ]
  },
  {
   "cell_type": "code",
   "execution_count": 8,
   "metadata": {
    "scrolled": true
   },
   "outputs": [
    {
     "name": "stdout",
     "output_type": "stream",
     "text": [
      "score = 0.796944017668523\n",
      "Mean_Squared_Error = 5.730691056910575\n",
      "RMSE = 2.3938861829482567\n"
     ]
    }
   ],
   "source": [
    "# sklearn.metrics라는 패키지로부터 mean_squared_error 모듈을 불러들임\n",
    "from sklearn.metrics import mean_squared_error\n",
    "\n",
    "# 결정계수 R값을 구함\n",
    "print('score =', linear_regression.score(X = pd.DataFrame(X), y = y))\n",
    "\n",
    "# 실제값(data[y])과 회귀식 값(prediction)의 차이의 제곱을 구함\n",
    "print('Mean_Squared_Error =', mean_squared_error(prediction, y))\n",
    "\n",
    "# Mean squared error의 제곱근 값을 구함\n",
    "print('RMSE =', mean_squared_error(prediction, y)**0.5)"
   ]
  }
 ],
 "metadata": {
  "kernelspec": {
   "display_name": "Python 3",
   "language": "python",
   "name": "python3"
  },
  "language_info": {
   "codemirror_mode": {
    "name": "ipython",
    "version": 3
   },
   "file_extension": ".py",
   "mimetype": "text/x-python",
   "name": "python",
   "nbconvert_exporter": "python",
   "pygments_lexer": "ipython3",
   "version": "3.6.8"
  }
 },
 "nbformat": 4,
 "nbformat_minor": 2
}
