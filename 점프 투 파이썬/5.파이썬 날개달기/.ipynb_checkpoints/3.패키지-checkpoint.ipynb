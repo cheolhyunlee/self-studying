{
 "cells": [
  {
   "cell_type": "markdown",
   "metadata": {},
   "source": [
    "## 패키지 안의 함수 실행하기"
   ]
  },
  {
   "cell_type": "code",
   "execution_count": null,
   "metadata": {},
   "outputs": [],
   "source": [
    "# echo.py\n",
    "def echo_test():\n",
    "    print (\"echo\")"
   ]
  },
  {
   "cell_type": "markdown",
   "metadata": {},
   "source": [
    "- ※ 아래 예제들은 import 예제들이므로 하나의 예제를 실행하고 나서 다음 예제를 실행할 때에는 반드시 인터프리터를 종료하고 다시 실행해야 한다. 인터프리터를 다시 시작하지 않을 경우 이전에 import했던 것들이 메모리에 남아 있게 되어 엉뚱한 결과가 나올 수 있다."
   ]
  },
  {
   "cell_type": "code",
   "execution_count": null,
   "metadata": {},
   "outputs": [],
   "source": [
    "# 첫 번째는 echo 모듈을 import하여 실행하는 방법으로, 다음과 같이 실행한다.\n",
    "\n",
    "import game.sound.echo\n",
    "game.sound.echo.echo_test()\n",
    "\n",
    "echo"
   ]
  },
  {
   "cell_type": "code",
   "execution_count": null,
   "metadata": {},
   "outputs": [],
   "source": [
    "# 두 번째는 echo 모듈이 있는 디렉터리까지를 from ... import하여 실행하는 방법이다.\n",
    "\n",
    "from game.sound import echo\n",
    "echo.echo_test()\n",
    "\n",
    "echo"
   ]
  },
  {
   "cell_type": "code",
   "execution_count": null,
   "metadata": {},
   "outputs": [],
   "source": [
    "# 세 번째는 echo 모듈의 echo_test 함수를 직접 import하여 실행하는 방법이다.\n",
    "\n",
    "from game.sound.echo import echo_test\n",
    "echo_test()\n",
    "\n",
    "echo"
   ]
  },
  {
   "cell_type": "code",
   "execution_count": null,
   "metadata": {},
   "outputs": [],
   "source": [
    "# 다음처럼 echo_test 함수를 사용하는 것도 불가능하다.\n",
    "\n",
    "import game.sound.echo.echo_test\n",
    "\n",
    "Traceback (most recent call last):\n",
    "    File \"<stdin>\", line 1, in <module>\n",
    "ImportError: No module named echo_test\n",
    "    \n",
    "# 도트 연산자(.)를 사용해서 import a.b.c처럼 import할 때 가장 마지막 항목인 c는 반드시 모듈 또는 패키지여야만 한다."
   ]
  },
  {
   "cell_type": "markdown",
   "metadata": {},
   "source": [
    "# 이외에도 패키지 만들기 패키지 안에서 import 쓰기가 있으나 생략한다"
   ]
  }
 ],
 "metadata": {
  "kernelspec": {
   "display_name": "Python 3",
   "language": "python",
   "name": "python3"
  },
  "language_info": {
   "codemirror_mode": {
    "name": "ipython",
    "version": 3
   },
   "file_extension": ".py",
   "mimetype": "text/x-python",
   "name": "python",
   "nbconvert_exporter": "python",
   "pygments_lexer": "ipython3",
   "version": "3.6.8"
  }
 },
 "nbformat": 4,
 "nbformat_minor": 2
}
