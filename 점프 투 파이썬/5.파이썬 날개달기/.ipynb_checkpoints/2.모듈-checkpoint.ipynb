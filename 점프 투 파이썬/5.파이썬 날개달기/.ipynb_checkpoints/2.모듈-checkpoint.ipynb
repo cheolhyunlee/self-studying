{
 "cells": [
  {
   "cell_type": "markdown",
   "metadata": {},
   "source": [
    "# 모듈\n",
    "- 모듈이란 함수나 변수 또는 클래스 들을 모아 놓은 파일이다.\n",
    "- 모듈은 다른 파이썬 프로그램에서 불러와 사용할수 있게끔 만들어진 파이썬 파일이라고도 할 수 있다.\n",
    "- 다른 사람들이 이미 만들어 놓은 모듈을 사용할 수도 있고 우리가 직접 만들어서 사용할 수도 있다."
   ]
  },
  {
   "cell_type": "markdown",
   "metadata": {},
   "source": [
    "## 모듈 만들기"
   ]
  },
  {
   "cell_type": "code",
   "execution_count": 11,
   "metadata": {},
   "outputs": [],
   "source": [
    "# add와 sub함수만 있는 파일 mod1.py를 만들고 C:\\doit 디렉터리에 저장\n",
    "# 이 mod1.py 파일이 모듈\n",
    "def add(a,b) :\n",
    "    return a+b\n",
    "def sub(a,b) :\n",
    "    return a-b"
   ]
  },
  {
   "cell_type": "markdown",
   "metadata": {},
   "source": [
    "## 모듈 불러오기\n",
    "- 명령 프롬프트 창 열기\n",
    "        C:\\Users\\gus26>cd C:\\doit\n",
    "        C:\\doit>dir\n",
    "        \n",
    "        C:\\doit>python\n",
    "        \n",
    "        import mod1\n",
    "        print(mod1.add(3, 4))\n",
    "        7\n",
    "        print(mod1.sub(4, 2))\n",
    "        2\n",
    "\n",
    "- 반드시 mod1.py를 저장한 c:\\doit 디렉터리로 이동한 다음 이후 예제를 진행해야 한다.<br>그래야만 대화형 인터프리터에서 mod1.py를 읽을 수 있다.\n",
    ">import는 현재 디렉터리에 있는 파일이나 파이썬 라이브러리가 저장된 디렉터리에 있는 모듈만 불러올 수 있다."
   ]
  },
  {
   "cell_type": "markdown",
   "metadata": {},
   "source": [
    "- import의 사용 방법은 다음과 같다.\n",
    "\n",
    "        import 모듈이름\n",
    "- 여기서 모듈이름은 mod1.py에서 .py라는 확장자를 제거한 mod1만을 가리킨다.\n",
    "        from 모듈이름 import 모듈함수\n",
    "\n",
    "- from ~ import ~를 이용하면 위와 같이 모듈이름을 붙이지 않고 바로 해당 모듈의 함수를 쓸 수 있다.\n",
    "\n",
    "        from mod1 import add\n",
    "        add(3, 4)\n",
    "        7\n",
    "- add 함수와 sub 함수를 둘 다 사용하기\n",
    "\n",
    "        from mod1 import add, sub\n",
    "- 첫 번째 방법은 위와 같이 from 모듈이름 import 모듈함수1, 모듈함수2처럼 사용하는 방법이다.\n",
    "<br>콤마로 구분하여 필요한 함수를 불러올 수 있다.\n",
    "\n",
    "        from mod1 import *\n",
    "- 두 번째 방법은 위와 같이 * 문자를 사용하는 방법이다.<br>from mod1 import *는 mod1.py의 모든 함수를 불러서 사용하겠다는 말이다.<br><br>\n",
    "- mod1.py 파일에는 함수가 2개밖에 없기 때문에 위의 2가지 방법은 동일하게 적용된다."
   ]
  },
  {
   "cell_type": "markdown",
   "metadata": {},
   "source": [
    "    def add(a, b): \n",
    "        return a+b\n",
    "\n",
    "    def sub(a, b): \n",
    "        return a-b\n",
    "\n",
    "    print(add(1, 4))\n",
    "    print(sub(4, 2))\n",
    "    \n",
    "- 이 파일을 import 하여 함수를 가져다 쓰려고 하면 print 값이 출력된다."
   ]
  },
  {
   "cell_type": "markdown",
   "metadata": {},
   "source": [
    "    def add(a, b): \n",
    "        return a+b\n",
    "\n",
    "    def sub(a, b): \n",
    "        return a-b\n",
    "\n",
    "    if __name__ == \"__main__\":\n",
    "        print(add(1, 4))\n",
    "        print(sub(4, 2))"
   ]
  },
  {
   "cell_type": "markdown",
   "metadata": {},
   "source": [
    "    if __name__ == \"__main__\"을 사용하면 C:\\doit>python mod1.py처럼\n",
    "    직접 이 파일을 실행시켰을 때는 __name__ == \"__main__\"이 참이 되어 if문 다음 문장들이 수행된다.\n",
    "    반대로 대화형 인터프리터나 다른 파일에서 이 모듈을 불러서 사용할 때는\n",
    "    __name__ == \"__main__\"이 거짓이 되어 if문 다음 문장들이 수행되지 않는다.\n"
   ]
  },
  {
   "cell_type": "markdown",
   "metadata": {},
   "source": [
    "    파이썬의 __name__ 변수는 파이썬이 내부적으로 사용하는 특별한 변수명이다.\n",
    "    만약 C:\\doit>python mod1.py처럼 직접 mod1.py 파일을 실행시킬 경우\n",
    "    mod1.py의 __name__ 변수에는 __main__ 이라는 값이 저장된다.\n",
    "    하지만 파이썬 쉘이나 다른 파이썬 모듈에서 mod1을 import 할 경우에는\n",
    "    mod1.py의 __name__ 변수에는 \"mod1\"이라는 mod1.py의 모듈이름 값이 저장된다."
   ]
  },
  {
   "cell_type": "markdown",
   "metadata": {},
   "source": [
    "## 다른 파일에서 모듈 불러오기\n",
    "- 지금까지는 만들어 놓은 모듈 파일을 사용하기 위해 대화형 인터프리터만을 이용했다.\n",
    "<br>이번에는 다른 파이썬 파일에서 이전에 만들어 놓았던 모듈을 불러와서 사용하는 방법에 대해 알아보자.\n",
    "\n",
    "        modtest.py\n",
    "\n",
    "        import mod2\n",
    "        result = mod2.add(3, 4)\n",
    "        print(result)\n",
    "\n",
    "- 위에서 볼 수 있듯이 다른 파이썬 파일에서도 import mod2로 mod2모듈을 불러와서 사용할 수 있다.\n",
    "- 위의 예제가 정상적으로 실행되기 위해서는 modtest.py 파일과 mod2.py 파일이 동일한 디렉터리(c:\\doit)에 있어야 한다."
   ]
  },
  {
   "cell_type": "markdown",
   "metadata": {},
   "source": [
    "## 모듈을 불러오는 또 다른 방법"
   ]
  },
  {
   "cell_type": "markdown",
   "metadata": {},
   "source": [
    "### 1. sys.path.append(모듈을 저장한 디렉터리) 사용하기"
   ]
  },
  {
   "cell_type": "code",
   "execution_count": 12,
   "metadata": {},
   "outputs": [
    {
     "data": {
      "text/plain": [
       "['c:\\\\users\\\\gus26\\\\appdata\\\\local\\\\programs\\\\python\\\\python36\\\\python36.zip',\n",
       " 'c:\\\\users\\\\gus26\\\\appdata\\\\local\\\\programs\\\\python\\\\python36\\\\DLLs',\n",
       " 'c:\\\\users\\\\gus26\\\\appdata\\\\local\\\\programs\\\\python\\\\python36\\\\lib',\n",
       " 'c:\\\\users\\\\gus26\\\\appdata\\\\local\\\\programs\\\\python\\\\python36',\n",
       " '',\n",
       " 'c:\\\\users\\\\gus26\\\\appdata\\\\local\\\\programs\\\\python\\\\python36\\\\lib\\\\site-packages',\n",
       " 'c:\\\\users\\\\gus26\\\\appdata\\\\local\\\\programs\\\\python\\\\python36\\\\lib\\\\site-packages\\\\IPython\\\\extensions',\n",
       " 'C:\\\\Users\\\\gus26\\\\.ipython']"
      ]
     },
     "execution_count": 12,
     "metadata": {},
     "output_type": "execute_result"
    }
   ],
   "source": [
    "# 먼저 sys 모듈을 불러온다.\n",
    "# 이 sys 모듈을 이용하면 파이썬 라이브러리가 설치되어 있는 디렉터리를 확인할 수 있다.\n",
    "\n",
    "import sys\n",
    "sys.path\n",
    "\n",
    "# sys.path는 파이썬 라이브러리들이 설치되어 있는 디렉터리들을 보여 준다.\n",
    "# 만약 파이썬 모듈이 위의 디렉터리에 들어 있다면 모듈이 저장된 디렉터리로 이동할 필요없이 바로 불러서 사용할 수가 있다."
   ]
  },
  {
   "cell_type": "code",
   "execution_count": 13,
   "metadata": {},
   "outputs": [],
   "source": [
    "# sys.path의 결과값이 리스트이므로 우리는 다음과 같이 할 수 있을 것이다.\n",
    "sys.path.append(\"C:/doit\")"
   ]
  },
  {
   "cell_type": "code",
   "execution_count": 14,
   "metadata": {},
   "outputs": [
    {
     "data": {
      "text/plain": [
       "['c:\\\\users\\\\gus26\\\\appdata\\\\local\\\\programs\\\\python\\\\python36\\\\python36.zip',\n",
       " 'c:\\\\users\\\\gus26\\\\appdata\\\\local\\\\programs\\\\python\\\\python36\\\\DLLs',\n",
       " 'c:\\\\users\\\\gus26\\\\appdata\\\\local\\\\programs\\\\python\\\\python36\\\\lib',\n",
       " 'c:\\\\users\\\\gus26\\\\appdata\\\\local\\\\programs\\\\python\\\\python36',\n",
       " '',\n",
       " 'c:\\\\users\\\\gus26\\\\appdata\\\\local\\\\programs\\\\python\\\\python36\\\\lib\\\\site-packages',\n",
       " 'c:\\\\users\\\\gus26\\\\appdata\\\\local\\\\programs\\\\python\\\\python36\\\\lib\\\\site-packages\\\\IPython\\\\extensions',\n",
       " 'C:\\\\Users\\\\gus26\\\\.ipython',\n",
       " 'C:/doit']"
      ]
     },
     "execution_count": 14,
     "metadata": {},
     "output_type": "execute_result"
    }
   ],
   "source": [
    "# 다시 sys.path를 보면 가장 마지막 요소에 C:/doit라고 추가된 것을 확인할 수 있다.\n",
    "sys.path"
   ]
  },
  {
   "cell_type": "markdown",
   "metadata": {},
   "source": [
    "### 2. PYTHONPATH 환경 변수 사용하기\n",
    "\n",
    "- 모듈을 불러와서 사용하는 또 다른 방법으로는 PYTHONPATH 환경 변수를 사용하는 방법이 있다."
   ]
  },
  {
   "cell_type": "markdown",
   "metadata": {},
   "source": [
    "    C:\\doit>set PYTHONPATH=C:\\doit\\mymod\n",
    "    C:\\doit>python\n",
    "\n",
    "- set 명령어를 이용해 PYTHONPATH 환경 변수에 mod2.py 파일이 있는 C:\\doit\\mymod 디렉터리를 설정한다.<br>그러면 디렉터리 이동이나 별도의 모듈 추가 작업 없이 mod2 모듈을 불러와서 사용할 수 있다."
   ]
  },
  {
   "cell_type": "code",
   "execution_count": null,
   "metadata": {},
   "outputs": [],
   "source": []
  }
 ],
 "metadata": {
  "kernelspec": {
   "display_name": "Python 3",
   "language": "python",
   "name": "python3"
  },
  "language_info": {
   "codemirror_mode": {
    "name": "ipython",
    "version": 3
   },
   "file_extension": ".py",
   "mimetype": "text/x-python",
   "name": "python",
   "nbconvert_exporter": "python",
   "pygments_lexer": "ipython3",
   "version": "3.6.8"
  }
 },
 "nbformat": 4,
 "nbformat_minor": 2
}
