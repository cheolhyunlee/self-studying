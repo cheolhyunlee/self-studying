{
 "cells": [
  {
   "cell_type": "markdown",
   "metadata": {},
   "source": [
    "- 프로그래밍 언어를 구분하는 다양한 카테고리\n",
    "        절차 지향 프로그래밍 언어\n",
    "        객체 지향 프로그래밍 언어\n",
    "        함수형 프로그래밍 언어\n",
    "- 파이썬은 세가지 특성을 다 가지고 있다.\n",
    "<br><br>\n",
    "- 객체 지향 프로그래밍 언어\n",
    "        Object Oriented Programming Language (OOP)\n",
    "<br>\n",
    "- 프로그래밍 언어에 가장 큰 영향을 미친 언어는 영어!\n",
    "- 초기 프로그래밍 언어는 명령형으로 작성 (주어가 없다.)\n",
    "<br> ex) print(\"안녕하세요\") => 동사 + 목적어<br>\n",
    "<br>\n",
    "- 하지만 점점 개발을 하게되면서 프로그래밍은 하나의 세상을 만드는 것이 되었다.\n",
    "<br> 세상 안에는 무엇이 있는가? => 객체<br><br>\n",
    "- ex) 병원 환자를 관리하는 프로그램<br>\n",
    "객체들 : 환자, 간호사, 의사, 병실, 아침 식사 등등<br>\n",
    "의사 = 진찰을 한다 [동작] + 환자를[목적어]<br><br>\n",
    "- 의사.진찰하다(환자를)=> 더 이상 컴퓨터에게 명령을 하는것이 아니라<br>\n",
    "세상안에서 어떠한 객체가 어떤것을 대상으로 어떠한 동작을 하게 되는것을 프로그래밍 해야한다.<br><br>\n",
    "=> 객체 지향 프로그래밍<br>\n",
    "ex) string = '안녕하세요'<br>\n",
    "string.split(\"하\") => [\"안녕\",\"세요\"] 주어 + 동사 + 목적어 (기본적인 영어문장처럼 작성)\n",
    "        코드를 주어 동사 목적어로 나누어 기존에 명령을 하던 것이 아니라 세상안에서 객체들이 직접 움직이며 돌아가게 만드는것\n",
    "        => 객체 지향 프로그래밍"
   ]
  },
  {
   "cell_type": "markdown",
   "metadata": {},
   "source": [
    "### 클래스 선언\n",
    "    - ex) i have a phone\n",
    "        i_have_a_phone - snake case\n",
    "        IHaveAPhone - Camel Case\n",
    ">class <이름 Camel Case> :"
   ]
  },
  {
   "cell_type": "code",
   "execution_count": 24,
   "metadata": {},
   "outputs": [],
   "source": [
    "class Student : #각각의 기능을 가진 함수를 만들어야함 \n",
    "    def __init__(self, name, korean, math, english, science) : # 생성자 : 자기자신을 생성하는 함수\n",
    "        self # 객체 자신을 나타냄\n",
    "        self.name = name\n",
    "        self.korean = korean\n",
    "        self.math = math\n",
    "        self.english = english\n",
    "        self.science = science\n",
    "    def get_sum(self) : \n",
    "        return self.korean + self.math + self.english + self.science\n",
    "    def get_average(self) :\n",
    "        return self.get_sum() / 4 # 자기자신 이니까 ()안에 self 안 넣어도됨\n",
    "    def to_string(self) :\n",
    "        return \"{}\\t{}\\t{}\".format(student.name, self.get_sum(), self.get_average())"
   ]
  },
  {
   "cell_type": "code",
   "execution_count": 26,
   "metadata": {},
   "outputs": [
    {
     "name": "stdout",
     "output_type": "stream",
     "text": [
      "True\n",
      "구지연\t368\t92.0\n",
      "<__main__.Student object at 0x0000026F46D4F390>\n"
     ]
    }
   ],
   "source": [
    "a = Student(\"윤인성\", 87,98,88,95)\n",
    "\n",
    "bool_value = isinstance(a,Student)\n",
    "print(bool_value)\n",
    "print(a.to_string())\n",
    "print(str(a))"
   ]
  },
  {
   "cell_type": "code",
   "execution_count": 17,
   "metadata": {},
   "outputs": [
    {
     "name": "stdout",
     "output_type": "stream",
     "text": [
      "이름\t총점\t평균\n",
      "윤인성\t368\t92.0\n",
      "연하진\t384\t96.0\n",
      "구지연\t356\t89.0\n"
     ]
    }
   ],
   "source": [
    "students = [\n",
    "Student(\"윤인성\", 87,98,88,95),\n",
    "Student(\"연하진\", 92,98,96,98),\n",
    "Student(\"구지연\", 76,96,94,90),\n",
    "]\n",
    "\n",
    "print(\"이름\", \"총점\", \"평균\", sep = \"\\t\")\n",
    "for student in students :\n",
    "    print(student.to_string())"
   ]
  }
 ],
 "metadata": {
  "kernelspec": {
   "display_name": "Python 3",
   "language": "python",
   "name": "python3"
  },
  "language_info": {
   "codemirror_mode": {
    "name": "ipython",
    "version": 3
   },
   "file_extension": ".py",
   "mimetype": "text/x-python",
   "name": "python",
   "nbconvert_exporter": "python",
   "pygments_lexer": "ipython3",
   "version": "3.6.8"
  }
 },
 "nbformat": 4,
 "nbformat_minor": 2
}
