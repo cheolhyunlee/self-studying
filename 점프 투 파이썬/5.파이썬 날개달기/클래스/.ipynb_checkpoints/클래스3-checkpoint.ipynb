{
 "cells": [
  {
   "cell_type": "markdown",
   "metadata": {},
   "source": [
    "## 상속\n",
    "- 우리는 예전에 만들어진 코드를 이용하여 새로운 기능을 개발하는 경우가 많다.\n",
    "- 클래스의 상속 기능을 사용하면 부모 클래스에서 만들어둔 기능과 속성을 물려받을 수 있다.\n",
    "- 상속은 객체지향 프로그래밍의 매우 뛰어난 기능이다. (객체 지향의 핵심)\n",
    "- 새 클래스를 정의할 떄 기존의 클래스를 사용한다.<br><br>\n",
    "- 부모클래스 : 상속하는 클래스, 슈퍼 클래스, 기본 클래스<br>\n",
    "자식클래스 : 상속받는 클래스, 서브 클래스, 파생 클래스"
   ]
  },
  {
   "cell_type": "code",
   "execution_count": 28,
   "metadata": {},
   "outputs": [],
   "source": [
    "class Person :\n",
    "    \n",
    "    def __init__(self, firstname, lastname) :\n",
    "        self.firstname = firstname\n",
    "        self.lastname = lastname\n",
    "        \n",
    "    def name(self) :\n",
    "        return self.firstname + \" \" + self.lastname"
   ]
  },
  {
   "cell_type": "code",
   "execution_count": 29,
   "metadata": {},
   "outputs": [],
   "source": [
    "class Employer(Person) :\n",
    "    \n",
    "    def __init__(self, firstname, lastname, position) :\n",
    "        Person.__init__(self, firstname, lastname)\n",
    "        self.position = position\n",
    "        \n",
    "    def info(self) :\n",
    "        return \"Employer : \" + self.name() + \", \" + self.position"
   ]
  },
  {
   "cell_type": "code",
   "execution_count": 30,
   "metadata": {},
   "outputs": [],
   "source": [
    "class Employee(Person) :\n",
    "    \n",
    "    def __init__(self, firstname, lastname, staffId) :\n",
    "        Person.__init__(self, firstname, lastname)\n",
    "        self.staffId = staffId\n",
    "        \n",
    "    def info(self) :\n",
    "        return \"Employee : \" + self.name() + \", \" + str(self.staffId)"
   ]
  },
  {
   "cell_type": "code",
   "execution_count": 31,
   "metadata": {},
   "outputs": [
    {
     "name": "stdout",
     "output_type": "stream",
     "text": [
      "Employee : Sherlock Gmones, 111111\n",
      "Employer : James Kim, CFO\n"
     ]
    }
   ],
   "source": [
    "worker = Employee(\"Sherlock\", \"Gmones\", 111111)\n",
    "cfo = Employer(\"James\", \"Kim\", \"CFO\")\n",
    "print(worker.info())\n",
    "print(cfo.info())"
   ]
  },
  {
   "cell_type": "markdown",
   "metadata": {},
   "source": [
    "## super()\n",
    "- 부모 클래스의 이름을 알고 있을 경우\n",
    "        Person.__init__\n",
    "과 같이 부모 클래스의 이름과 .을 사용하여 부모 클래스의 메소드를 호출 할 수 있다.<br><br>\n",
    "- 하지만 super()를 통해 부모 클래스의 메소드를 쉽게 이용할 수 있다.\n",
    "- 부모 클래스를 명시적으로 적어줄 필요가 없으므로 프로그램의 유지 보수가 쉽다."
   ]
  },
  {
   "cell_type": "code",
   "execution_count": 20,
   "metadata": {},
   "outputs": [],
   "source": [
    "class Employer(Person) :\n",
    "    \n",
    "    def __init__(self, firstname, lastname, position) :\n",
    "        super().__init__(firstname, lastname)\n",
    "# super()가 메소드를 호출할 때는 self를 자동으로 바운딩하는 메소드에 전달해 주므로 self를 사용할 필요가 없다.\n",
    "        self.position = position\n",
    "        \n",
    "    def info(self) :\n",
    "        return \"Employer : \" + self.name() + \", \" + self.position"
   ]
  },
  {
   "cell_type": "code",
   "execution_count": 21,
   "metadata": {},
   "outputs": [
    {
     "name": "stdout",
     "output_type": "stream",
     "text": [
      "Employer : James Kim, CFO\n"
     ]
    }
   ],
   "source": [
    "cfo = Employer(\"James\", \"Kim\", \"CFO\")\n",
    "print(cfo.info())"
   ]
  },
  {
   "cell_type": "markdown",
   "metadata": {},
   "source": [
    "## 메소드 오버라이딩\n",
    "- 자식 클래스는 부모 클래스의 메소드를 상속받는다.\n",
    "- 때때로 부모 클래스에서 구현된 메소드를 자식 클래스에서 수정할 필요가 있는데 이것을 메소드 오버라이딩이라고 한다."
   ]
  },
  {
   "cell_type": "code",
   "execution_count": 36,
   "metadata": {},
   "outputs": [],
   "source": [
    "class Person :\n",
    "    \n",
    "    def __init__(self, firstname, lastname) :\n",
    "        self.firstname = firstname\n",
    "        self.lastname = lastname\n",
    "        \n",
    "    def __str__(self) :\n",
    "        return self.firstname + \" \" + self.lastname"
   ]
  },
  {
   "cell_type": "code",
   "execution_count": 37,
   "metadata": {},
   "outputs": [
    {
     "name": "stdout",
     "output_type": "stream",
     "text": [
      "Employee : Sherlock Gmones, 111111\n"
     ]
    }
   ],
   "source": [
    "class Employee(Person) :\n",
    "    \n",
    "    def __init__(self, firstname, lastname, staffId) :\n",
    "        super().__init__(firstname, lastname)\n",
    "        self.staffId = staffId\n",
    "        \n",
    "    # 부모 클래스의 메소드를 오버라이딩\n",
    "    def __str__(self) :\n",
    "        return \"Employee : \" + super().__str__() + \", \" + str(self.staffId)\n",
    "    \n",
    "worker = Employee(\"Sherlock\", \"Gmones\", 111111)\n",
    "print(worker)"
   ]
  }
 ],
 "metadata": {
  "kernelspec": {
   "display_name": "Python 3",
   "language": "python",
   "name": "python3"
  },
  "language_info": {
   "codemirror_mode": {
    "name": "ipython",
    "version": 3
   },
   "file_extension": ".py",
   "mimetype": "text/x-python",
   "name": "python",
   "nbconvert_exporter": "python",
   "pygments_lexer": "ipython3",
   "version": "3.6.8"
  }
 },
 "nbformat": 4,
 "nbformat_minor": 2
}
