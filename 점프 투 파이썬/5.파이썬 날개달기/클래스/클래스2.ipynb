{
 "cells": [
  {
   "cell_type": "markdown",
   "metadata": {},
   "source": [
    "## 클래스와 객체\n",
    "\n",
    "- 클래스(class)는 속성(인스턴스 변수)와 행위(메소드)를 모아 놓은 집합체<br>\n",
    "    객체의 설계도,형틀(template),청사진(blueprint)<br><br>\n",
    "    객체(instance)는 클래스로부터 만들어지는 각각의 객체를 그 클래스의 인스턴스라고 한다.<br>\n",
    "    클래스에서 정의한 속성과 행위를 수행함<br>\n",
    "    각 인스턴스들은 설계도로부터 만들어진 개별적인 객체로 서로 다른 값을 가질 수 있음<br><br>\n",
    "- 소프트웨어상에서<br>\n",
    "    객체의 상태 또는 속성은 *인스턴스 변수*로 표현<br>\n",
    "    행위 혹은 동작은 *메소드*로 표현<br>"
   ]
  },
  {
   "cell_type": "markdown",
   "metadata": {},
   "source": [
    "    person 클래스 (설계도)         ex) person 인스턴스\n",
    "    속성(인스턴스 변수)                 name = \"ju\"\n",
    "    name                              age = 23\n",
    "    age                              skills = design\n",
    "    skills\n",
    "    행위(메소드)\n",
    "    __init__()\n",
    "    walk()\n",
    "    talk()\n",
    "    eat()"
   ]
  },
  {
   "cell_type": "code",
   "execution_count": 1,
   "metadata": {},
   "outputs": [
    {
     "name": "stdout",
     "output_type": "stream",
     "text": [
      "냥냥\n",
      "냥냥\n"
     ]
    }
   ],
   "source": [
    "class Cat :\n",
    "    def meow(self) :\n",
    "        print(\"냥냥\")\n",
    "\n",
    "cat1 = Cat() # Cat 인스턴스 생성\n",
    "cat1.meow() # Cat이 구현한 메소드 호출\n",
    "cat2 = Cat()\n",
    "cat2.meow()"
   ]
  },
  {
   "cell_type": "code",
   "execution_count": 2,
   "metadata": {},
   "outputs": [
    {
     "name": "stdout",
     "output_type": "stream",
     "text": [
      "고양이 이름은 깜냥이 색깔은 검정색\n"
     ]
    }
   ],
   "source": [
    "class Cat :\n",
    "    def info(self) : # info() 메소드\n",
    "        self.name = \"깜냥이\" # 인스턴스 변수 name 생성\n",
    "        self.color = \"검정색\" # 인스턴스 변수 color 생성\n",
    "        print('고양이 이름은', self.name, '색깔은', self.color)\n",
    "        \n",
    "cat = Cat() # 인스턴스 생성\n",
    "cat.info() # 인스턴스의 메소드 실행"
   ]
  },
  {
   "cell_type": "code",
   "execution_count": 3,
   "metadata": {},
   "outputs": [
    {
     "name": "stdout",
     "output_type": "stream",
     "text": [
      "고양이 이름은 네로 색깔은 검정색\n",
      "고양이 이름은 미미 색깔은 갈색\n"
     ]
    }
   ],
   "source": [
    "class Cat :\n",
    "    #생성자 혹은 초기화 메소드라 한다.\n",
    "    def __init__(self, name, color) :\n",
    "        self.name = name\n",
    "        self.color = color\n",
    "    #고양이 클래스의 정보를 출력하는 메소드\n",
    "    def info(self) :\n",
    "        print('고양이 이름은', self.name, '색깔은', self.color)\n",
    "        \n",
    "# self : 클래스의 인스턴스를 지칭함 이것을 통해 클래스의 메소드와 속성에 접근할 수 있다.\n",
    "# 모든 메소드의 첫 번째 매개변수는 자기 자신을 가리키는 self 변수이다.\n",
    "\n",
    "cat1 = Cat(\"네로\", \"검정색\") # cat1 인스턴스 생성, cat1 => self\n",
    "cat2 = Cat(\"미미\", \"갈색\") # cat2 인스턴스 생성, cat2 => self\n",
    "\n",
    "cat1.info()\n",
    "cat2.info()"
   ]
  },
  {
   "cell_type": "code",
   "execution_count": 5,
   "metadata": {},
   "outputs": [
    {
     "name": "stdout",
     "output_type": "stream",
     "text": [
      "이름 : 영희 나이 : 25\n",
      "영희 를 호출합니다.\n",
      "이름 : 홍길동 나이 : 27\n",
      "홍길동 를 호출합니다.\n"
     ]
    }
   ],
   "source": [
    "class Human :\n",
    "    # 객체의 초기화를 담당\n",
    "    def __init__(self, name, age) : # 생성자, 인스턴스 생성시 자동으로 호출\n",
    "        self.name = name\n",
    "        self.age = age\n",
    "    def info(self) :\n",
    "        print(\"이름 :\", self.name, \"나이 :\", self.age)\n",
    "    def call(self) :\n",
    "        print(self.name, \"를 호출합니다.\")\n",
    "# 메소드 : 클래스가 가진 함수, 클래스에 묶여서 인스턴스와 관계되는 일을 하는 함수\n",
    "\n",
    "person = Human(\"영희\",25) # 인스턴스 생성\n",
    "person.info() # person 인스턴스가 info(), call() 메소드를 호출\n",
    "person.call()\n",
    "guy = Human(\"홍길동\", 27)\n",
    "guy.info()\n",
    "guy.call()"
   ]
  },
  {
   "cell_type": "markdown",
   "metadata": {},
   "source": [
    "## 특수 메소드\n",
    "- 언더바 2개(__method__)로 묶인 함수 : 파이썬에서는 특별한 메소드<br><br>\n",
    "    *초기화 함수*\n",
    "        __init__() : 인스턴스를 만들 때 자동으로 실행되는 메소드\n",
    "\n",
    "    *문자열화 함수*\n",
    "        __str__() : 인스턴스 자체를 출력할 때의 형식을 지정해주는 메소드\n",
    "        print() 함수가 인스턴스를 출력할 때 지정된 형식으로 출력함\n",
    "    "
   ]
  },
  {
   "cell_type": "markdown",
   "metadata": {},
   "source": [
    "## 생성자\n",
    "\n",
    "- 객체를 만들때 인스턴스 변수가 기본값을 가지게 된다.\n",
    "- 생성자를 이욯해 지정한 초기 상태값을 가진채로 만들 수 있다.\n",
    "- *__init__()* 메소드에 초기 상태값을 설정한다. 이 메소드가 생성자이다.\n",
    "- 이 생성자 메소드는 객체가 생성될 때 자동으로 호출된다."
   ]
  },
  {
   "cell_type": "code",
   "execution_count": 8,
   "metadata": {},
   "outputs": [
    {
     "name": "stdout",
     "output_type": "stream",
     "text": [
      "영희(몸무게 97kg)\n"
     ]
    }
   ],
   "source": [
    "class Human :\n",
    "    def __init__(self, name, weight) : # 지정된 name과 weight를 이용하여 인스턴스 변수 초기화\n",
    "        self.name = name\n",
    "        self.weight = weight\n",
    "    def __str__(self) : # 출력할 때의 형식을 정해준다.\n",
    "        return \"{}(몸무게 {}kg)\".format(self.name, self.weight)\n",
    "    \n",
    "person = Human('영희', '97')\n",
    "print(person)"
   ]
  },
  {
   "cell_type": "markdown",
   "metadata": {},
   "source": [
    "## 인스턴스 관련 연산자\n",
    "    is 연산자\n",
    "    is 연산은 두 인스턴스가 같은 인스턴스인지 검사한다.\n",
    "    == 연산자\n",
    "    == 연산은 두 인스턴스의 데이터 값이 같은지 확인한다"
   ]
  },
  {
   "cell_type": "code",
   "execution_count": 3,
   "metadata": {},
   "outputs": [
    {
     "name": "stdout",
     "output_type": "stream",
     "text": [
      "list1과 list1은 같은 인스턴스입니다.\n",
      "list1, list2의 데이터는 값은 동일하며\n",
      "하지만 list1과 list2는 다른 인스턴스입니다.\n"
     ]
    }
   ],
   "source": [
    "list1 = [1,2,3]\n",
    "list2 = [1,2,3]\n",
    "if list1 is list1 :\n",
    "    print(\"list1과 list1은 같은 인스턴스입니다.\")\n",
    "if list1 == list2 :\n",
    "    print(\"list1, list2의 데이터는 값은 동일하며\")\n",
    "    if list1 is list2 :\n",
    "        print(\"list1과 list2는 같은 인스턴스입니다.\")\n",
    "    else :\n",
    "        print(\"하지만 list1과 list2는 다른 인스턴스입니다.\")"
   ]
  },
  {
   "cell_type": "markdown",
   "metadata": {},
   "source": [
    "## 특수 메소드\n",
    "- 인스턴스를 위한 +, - 연산을 정의 해야한다.\n",
    "        __add__()와 __sub__()의 특수 메소드를 구현해야 +, - 연산을 할 수 있다."
   ]
  },
  {
   "cell_type": "code",
   "execution_count": 7,
   "metadata": {},
   "outputs": [
    {
     "name": "stdout",
     "output_type": "stream",
     "text": [
      "(30,40) (10,20)\n",
      "30\n"
     ]
    },
    {
     "ename": "TypeError",
     "evalue": "unsupported operand type(s) for +: 'Vector2D' and 'Vector2D'",
     "output_type": "error",
     "traceback": [
      "\u001b[1;31m---------------------------------------------------------------------------\u001b[0m",
      "\u001b[1;31mTypeError\u001b[0m                                 Traceback (most recent call last)",
      "\u001b[1;32m<ipython-input-7-98993be94f8b>\u001b[0m in \u001b[0;36m<module>\u001b[1;34m\u001b[0m\n\u001b[0;32m     10\u001b[0m \u001b[0mprint\u001b[0m\u001b[1;33m(\u001b[0m\u001b[0mv1\u001b[0m\u001b[1;33m,\u001b[0m\u001b[0mv2\u001b[0m\u001b[1;33m)\u001b[0m\u001b[1;33m\u001b[0m\u001b[1;33m\u001b[0m\u001b[0m\n\u001b[0;32m     11\u001b[0m \u001b[0mprint\u001b[0m\u001b[1;33m(\u001b[0m\u001b[0mv1\u001b[0m\u001b[1;33m.\u001b[0m\u001b[0mx\u001b[0m\u001b[1;33m)\u001b[0m\u001b[1;33m\u001b[0m\u001b[1;33m\u001b[0m\u001b[0m\n\u001b[1;32m---> 12\u001b[1;33m \u001b[0mv3\u001b[0m \u001b[1;33m=\u001b[0m \u001b[0mv1\u001b[0m \u001b[1;33m+\u001b[0m \u001b[0mv2\u001b[0m\u001b[1;33m\u001b[0m\u001b[1;33m\u001b[0m\u001b[0m\n\u001b[0m\u001b[0;32m     13\u001b[0m \u001b[0mprint\u001b[0m\u001b[1;33m(\u001b[0m\u001b[0mv3\u001b[0m\u001b[1;33m)\u001b[0m\u001b[1;33m\u001b[0m\u001b[1;33m\u001b[0m\u001b[0m\n",
      "\u001b[1;31mTypeError\u001b[0m: unsupported operand type(s) for +: 'Vector2D' and 'Vector2D'"
     ]
    }
   ],
   "source": [
    "class Vector2D :\n",
    "    def __init__(self, x, y) :\n",
    "        self.x = x\n",
    "        self.y = y\n",
    "    def __str__(self) :\n",
    "        return \"({},{})\".format(self.x, self.y)\n",
    "    \n",
    "v1 = Vector2D(30,40)\n",
    "v2 = Vector2D(10,20)\n",
    "print(v1,v2)\n",
    "print(v1.x)\n",
    "\n",
    "v3 = v1 + v2 #Vector2D의 + 연산이 정의되지 않았다.\n",
    "print(v3) "
   ]
  },
  {
   "cell_type": "code",
   "execution_count": 9,
   "metadata": {
    "scrolled": true
   },
   "outputs": [
    {
     "name": "stdout",
     "output_type": "stream",
     "text": [
      "(30,40)\n",
      "(40,60) (20,20)\n",
      "(40,60)\n"
     ]
    }
   ],
   "source": [
    "class Vector2D :\n",
    "    def __init__(self, x, y) :\n",
    "        self.x = x\n",
    "        self.y = y\n",
    "        \n",
    "    def __add__(self, other_vec) :\n",
    "        return Vector2D(self.x + other_vec.x, self.y + other_vec.y)\n",
    "    \n",
    "    def __sub__(self, other_vec) :\n",
    "        return Vector2D(self.x - other_vec.x, self.y - other_vec.y)\n",
    "    \n",
    "    def __str__(self) :\n",
    "        return \"({},{})\".format(self.x, self.y)\n",
    "    \n",
    "v1 = Vector2D(30,40)\n",
    "v2 = Vector2D(10,20)\n",
    "print(v1)\n",
    "v3 = v1 + v2\n",
    "v4 = v1 - v2\n",
    "print(v3,v4)\n",
    "v5 = v1.__add__(v2)\n",
    "print(v5)"
   ]
  },
  {
   "cell_type": "markdown",
   "metadata": {},
   "source": [
    "## 인스턴스 변수\n",
    "- 인스턴스 변수중에서 클래스가 공유하는 속성들이 있을 것이다.\n",
    "- 이 속성을 개별 인스턴스가 모두 가지도록 하면 데이터의 중복이 발생하며,<br>오류의 원인이 될 수 있다."
   ]
  },
  {
   "cell_type": "code",
   "execution_count": 11,
   "metadata": {},
   "outputs": [
    {
     "name": "stdout",
     "output_type": "stream",
     "text": [
      "50.24\n",
      "113.04\n",
      "78.5\n",
      "78.5398\n"
     ]
    }
   ],
   "source": [
    "class Circle :\n",
    "    def __init__(self, name, radius) :\n",
    "        self.name = name\n",
    "        self.radius = radius\n",
    "        self.PI = 3.14\n",
    "        \n",
    "    def area(self) :\n",
    "        return self.PI * self.radius**2\n",
    "    \n",
    "c1 =Circle(\"C1\",4)\n",
    "c2 =Circle(\"C2\",6)\n",
    "c3 =Circle(\"C3\",5)\n",
    "print(c1.area())\n",
    "print(c2.area())\n",
    "print(c3.area())\n",
    "c3.PI = 3.141592\n",
    "print(c3.area())\n"
   ]
  },
  {
   "cell_type": "markdown",
   "metadata": {},
   "source": [
    "## 클래스 변수"
   ]
  },
  {
   "cell_type": "code",
   "execution_count": 13,
   "metadata": {},
   "outputs": [
    {
     "name": "stdout",
     "output_type": "stream",
     "text": [
      "50.24\n",
      "113.04\n",
      "78.5\n"
     ]
    }
   ],
   "source": [
    "class Circle :\n",
    "    PI = 3.14 # 클래스  : 인스턴스들이 공유함\n",
    "    def __init__(self, name, radius) :\n",
    "        self.name = name\n",
    "        self.radius = radius\n",
    "        \n",
    "    def area(self) :\n",
    "        return Circle.PI * self.radius**2 # 클래스 변수 PI를 사용\n",
    "    \n",
    "c1 =Circle(\"C1\",4)\n",
    "c2 =Circle(\"C2\",6)\n",
    "c3 =Circle(\"C3\",5)\n",
    "print(c1.area())\n",
    "print(c2.area())\n",
    "print(c3.area())\n"
   ]
  },
  {
   "cell_type": "markdown",
   "metadata": {},
   "source": [
    "    __dict__ 속성\n",
    "\n",
    "- 객체의 속성을 저장하는데 사용되는 딕셔너리 속성\n",
    "- 객체가 가진 여러 속성을 확인하는데 유용하다.\n",
    "        __dict__ / __module__ / __init__ / __weakref__ / __doc__ 등등\n",
    "        여러가지 있음"
   ]
  },
  {
   "cell_type": "code",
   "execution_count": 15,
   "metadata": {
    "scrolled": false
   },
   "outputs": [
    {
     "name": "stdout",
     "output_type": "stream",
     "text": [
      "{'name': 'C1', 'radius': 4}\n",
      "C1\n",
      "4\n"
     ]
    }
   ],
   "source": [
    "class Circle :\n",
    "    PI = 3.14\n",
    "    def __init__(self, name, radius) :\n",
    "        self.name = name\n",
    "        self.radius = radius\n",
    "        \n",
    "    def area(self) :\n",
    "        return Circle.PI * self.radius**2\n",
    "\n",
    "c1 = Circle(\"C1\",4)\n",
    "print(c1.__dict__) # c1 객체의 인스턴스 변수를 보여줌\n",
    "\n",
    "# __dict__[key] 형식으로 value를 얻을 수 있음\n",
    "print(c1.__dict__[\"name\"])\n",
    "print(c1.__dict__['radius'])"
   ]
  },
  {
   "cell_type": "code",
   "execution_count": null,
   "metadata": {},
   "outputs": [],
   "source": []
  }
 ],
 "metadata": {
  "kernelspec": {
   "display_name": "Python 3",
   "language": "python",
   "name": "python3"
  },
  "language_info": {
   "codemirror_mode": {
    "name": "ipython",
    "version": 3
   },
   "file_extension": ".py",
   "mimetype": "text/x-python",
   "name": "python",
   "nbconvert_exporter": "python",
   "pygments_lexer": "ipython3",
   "version": "3.6.8"
  }
 },
 "nbformat": 4,
 "nbformat_minor": 2
}
