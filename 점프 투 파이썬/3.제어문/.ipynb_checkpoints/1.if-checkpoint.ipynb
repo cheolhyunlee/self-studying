{
 "cells": [
  {
   "cell_type": "markdown",
   "metadata": {},
   "source": [
    "# if"
   ]
  },
  {
   "cell_type": "markdown",
   "metadata": {},
   "source": [
    "### if문의 기본 구조\n",
    "- if 조건문:  \n",
    "    수행할 문장1  \n",
    "    수행할 문장2  \n",
    "    ...  \n",
    "  else:  \n",
    "    수행할 문장A  \n",
    "    수행할 문장B  \n",
    "    ...\n",
    "<br><br>\n",
    "- else문은 if문 없이 독립적으로 사용할 수 없다.  \n",
    "- if문을 만들 때는 if 조건문: 바로 아래 문장부터 if문에 속하는 모든 문장에 들여쓰기(indentation)를 해주어야 한다.  \n",
    "- if 조건문 뒤에는 반드시 콜론(:)이 붙는다.  \n",
    "while이나 for, def, class문에도 역시 문장의 끝에 콜론(:)이 항상 들어간다."
   ]
  },
  {
   "cell_type": "code",
   "execution_count": 1,
   "metadata": {},
   "outputs": [
    {
     "name": "stdout",
     "output_type": "stream",
     "text": [
      "택시를 타고 가라\n"
     ]
    }
   ],
   "source": [
    "money = True #True는 참이다.\n",
    "if money :\n",
    "    print(\"택시를 타고 가라\")\n",
    "else :\n",
    "    print(\"걸어 가라\")"
   ]
  },
  {
   "cell_type": "markdown",
   "metadata": {},
   "source": [
    "### 비교연산자\n",
    "\n",
    "<, >, ==, !=, >=, <=\n",
    "\n",
    "    비교연산자\t설명\n",
    "    x < y\t x가 y보다 작다\n",
    "    x > y\t x가 y보다 크다\n",
    "    x == y\tx와 y가 같다\n",
    "    x != y\tx와 y가 같지 않다\n",
    "    x >= y\tx가 y보다 크거나 같다\n",
    "    x <= y\tx가 y보다 작거나 같다"
   ]
  },
  {
   "cell_type": "code",
   "execution_count": 6,
   "metadata": {},
   "outputs": [
    {
     "data": {
      "text/plain": [
       "False"
      ]
     },
     "execution_count": 6,
     "metadata": {},
     "output_type": "execute_result"
    }
   ],
   "source": [
    "x = 3\n",
    "y = 2\n",
    "x == y"
   ]
  },
  {
   "cell_type": "code",
   "execution_count": 7,
   "metadata": {
    "scrolled": true
   },
   "outputs": [
    {
     "data": {
      "text/plain": [
       "True"
      ]
     },
     "execution_count": 7,
     "metadata": {},
     "output_type": "execute_result"
    }
   ],
   "source": [
    "x != y"
   ]
  },
  {
   "cell_type": "code",
   "execution_count": 8,
   "metadata": {},
   "outputs": [
    {
     "data": {
      "text/plain": [
       "False"
      ]
     },
     "execution_count": 8,
     "metadata": {},
     "output_type": "execute_result"
    }
   ],
   "source": [
    "x < y"
   ]
  },
  {
   "cell_type": "code",
   "execution_count": 9,
   "metadata": {},
   "outputs": [
    {
     "name": "stdout",
     "output_type": "stream",
     "text": [
      "걸어가라\n"
     ]
    }
   ],
   "source": [
    "#\"만약 3000원 이상의 돈을 가지고 있으면 택시를 타고 그렇지 않으면 걸어 가라\"\n",
    "money = 2000\n",
    "if money >=3000 :\n",
    "    print(\"택시 타라\")\n",
    "else :\n",
    "    print(\"걸어가라\")"
   ]
  },
  {
   "cell_type": "markdown",
   "metadata": {},
   "source": [
    "### and, or, not\n",
    "    x or y\tx와 y 둘중에 하나만 참이면 참이다  \n",
    "    x and y\tx와 y 모두 참이어야 참이다  \n",
    "    not x\tx가 거짓이면 참이다  "
   ]
  },
  {
   "cell_type": "code",
   "execution_count": 2,
   "metadata": {},
   "outputs": [
    {
     "name": "stdout",
     "output_type": "stream",
     "text": [
      "택시를 타라\n"
     ]
    }
   ],
   "source": [
    "#\"돈이 3000원 이상 있거나 카드가 있다면 택시를 타고 그렇지 않으면 걸어 가라\"\n",
    "money = 2000\n",
    "card = True\n",
    "if money >= 3000 or card :\n",
    "    print(\"택시를 타라\")\n",
    "else :\n",
    "    print(\"걸어라\")"
   ]
  },
  {
   "cell_type": "code",
   "execution_count": 2,
   "metadata": {},
   "outputs": [
    {
     "name": "stdout",
     "output_type": "stream",
     "text": [
      "돈이 얼마나 있니? 2999\n",
      "카드가 있니? 네\n",
      "택시를 타거라\n"
     ]
    }
   ],
   "source": [
    "if float(input(\"돈이 얼마나 있니? \")) >= 3000 or input(\"카드가 있니? \") == '네' :\n",
    "    print(\"택시를 타거라\")\n",
    "else :\n",
    "    print(\"걸어라\")"
   ]
  },
  {
   "cell_type": "markdown",
   "metadata": {},
   "source": [
    "### x in s, x not in s\n",
    "    in\t           not in\n",
    "    x in 리스트\tx not in 리스트\n",
    "    x in 튜플\tx not in 튜플\n",
    "    x in 문자열\tx not in 문자열"
   ]
  },
  {
   "cell_type": "code",
   "execution_count": 12,
   "metadata": {},
   "outputs": [
    {
     "data": {
      "text/plain": [
       "True"
      ]
     },
     "execution_count": 12,
     "metadata": {},
     "output_type": "execute_result"
    }
   ],
   "source": [
    "1 in [1,2,3]"
   ]
  },
  {
   "cell_type": "code",
   "execution_count": 14,
   "metadata": {},
   "outputs": [
    {
     "data": {
      "text/plain": [
       "False"
      ]
     },
     "execution_count": 14,
     "metadata": {},
     "output_type": "execute_result"
    }
   ],
   "source": [
    "1 not in [1,2,3]"
   ]
  },
  {
   "cell_type": "code",
   "execution_count": 16,
   "metadata": {},
   "outputs": [
    {
     "data": {
      "text/plain": [
       "True"
      ]
     },
     "execution_count": 16,
     "metadata": {},
     "output_type": "execute_result"
    }
   ],
   "source": [
    "'a' in ('a','b','c')"
   ]
  },
  {
   "cell_type": "code",
   "execution_count": 19,
   "metadata": {},
   "outputs": [
    {
     "data": {
      "text/plain": [
       "True"
      ]
     },
     "execution_count": 19,
     "metadata": {},
     "output_type": "execute_result"
    }
   ],
   "source": [
    "'k' in 'keras'"
   ]
  },
  {
   "cell_type": "code",
   "execution_count": 21,
   "metadata": {},
   "outputs": [
    {
     "name": "stdout",
     "output_type": "stream",
     "text": [
      "택시를 타거라\n"
     ]
    }
   ],
   "source": [
    "#만약 주머니에 돈이 있으면 택시를 타고, 없으면 걸어 가라\"\n",
    "\n",
    "주머니 = ['지갑', '당구공', '돈', '뉴머니']\n",
    "\n",
    "if '돈' in 주머니 :\n",
    "    print(\"택시를 타거라\")\n",
    "else :\n",
    "    print(\"걸어라\")"
   ]
  },
  {
   "cell_type": "markdown",
   "metadata": {},
   "source": [
    "### 조건문에서 아무 일도 하지 않게 설정하고 싶다면?"
   ]
  },
  {
   "cell_type": "code",
   "execution_count": 26,
   "metadata": {},
   "outputs": [
    {
     "name": "stdout",
     "output_type": "stream",
     "text": [
      "카드를 꺼내라\n"
     ]
    }
   ],
   "source": [
    "#\"주머니에 돈이 있으면 가만히 있고 주머니에 돈이 없으면 카드를 꺼내라\"\n",
    "if '동장' in 주머니 :\n",
    "    pass\n",
    "else : #가만히 있끼\n",
    "    print(\"카드를 꺼내라\")"
   ]
  },
  {
   "cell_type": "markdown",
   "metadata": {},
   "source": [
    "### 다양한 조건을 판단하는 elif\n",
    "- if와 else만으로는 다양한 조건을 판단하기 어렵다.\n",
    "\n",
    "\n",
    "### elif의 기본구조\n",
    "- If <조건문>:  \n",
    "    <수행할 문장1>   \n",
    "    <수행할 문장2>  \n",
    "    ...  \n",
    "- elif <조건문>:  \n",
    "    <수행할 문장1>  \n",
    "    <수행할 문장2>  \n",
    "    ...  \n",
    "- elif <조건문>:  \n",
    "    <수행할 문장1>  \n",
    "    <수행할 문장2>  \n",
    "    ...  \n",
    "- else:  \n",
    "   <수행할 문장1>  \n",
    "   <수행할 문장2>  \n",
    "   ...   \n",
    "   \n",
    "   \n",
    "> 위에서 볼 수 있듯이 elif는 개수에 제한 없이 사용할 수 있다."
   ]
  },
  {
   "cell_type": "code",
   "execution_count": 30,
   "metadata": {},
   "outputs": [
    {
     "name": "stdout",
     "output_type": "stream",
     "text": [
      "걸어가라\n"
     ]
    }
   ],
   "source": [
    "#\"주머니에 돈이 있으면 택시를 타고, 주머니에 돈은 없지만 카드가 있으면 택시를 타고, 돈도 없고 카드도 없으면 걸어 가라\"\n",
    "주머니 = ['핸드백', '휴대폰']\n",
    "\n",
    "if '돈' in 주머니 :\n",
    "    print(\"택시를 타라\")\n",
    "elif '카드' in 주머니 :\n",
    "    print(\"택시를 타라\")\n",
    "else :\n",
    "    print(\"걸어가라\")"
   ]
  },
  {
   "cell_type": "markdown",
   "metadata": {},
   "source": [
    "### if문을 한 줄로 작성하기"
   ]
  },
  {
   "cell_type": "code",
   "execution_count": 37,
   "metadata": {},
   "outputs": [],
   "source": [
    "pocket = ['money']\n",
    "if 'money' in pocket : \n",
    "    pass \n",
    "else : \n",
    "    print(\"카드를 꺼내라\")\n",
    "    \n",
    "#이 코드를 좀더 간략하게 작성해보자"
   ]
  },
  {
   "cell_type": "code",
   "execution_count": 39,
   "metadata": {},
   "outputs": [
    {
     "name": "stdout",
     "output_type": "stream",
     "text": [
      "카드를 꺼내라\n"
     ]
    }
   ],
   "source": [
    "pocket = ['카드']\n",
    "if 'money' in pocket : pass \n",
    "else : print(\"카드를 꺼내라\")"
   ]
  },
  {
   "cell_type": "markdown",
   "metadata": {},
   "source": [
    "### 조건부 표현식(conditional expression)\n",
    "- 조건문이 _참인_ 경우 if 조건문 else 조건문이 _거짓_ 인경우\n"
   ]
  },
  {
   "cell_type": "code",
   "execution_count": 42,
   "metadata": {
    "scrolled": true
   },
   "outputs": [
    {
     "name": "stdout",
     "output_type": "stream",
     "text": [
      "what is score? 59\n",
      "failure\n"
     ]
    }
   ],
   "source": [
    "if float(input(\"what is score? \")) >= 60:\n",
    "    message = \"success\"\n",
    "else :\n",
    "    message = \"failure\"\n",
    "print(message)"
   ]
  },
  {
   "cell_type": "code",
   "execution_count": 5,
   "metadata": {
    "scrolled": true
   },
   "outputs": [
    {
     "name": "stdout",
     "output_type": "stream",
     "text": [
      "what is score? 92\n",
      "success\n"
     ]
    }
   ],
   "source": [
    "message = \"success\" if float(input(\"what is score? \")) >= 60 else \"failure\"\n",
    "print(message)"
   ]
  },
  {
   "cell_type": "markdown",
   "metadata": {},
   "source": [
    "- 다음 소스 코드를 완성하여 변수 x가 11과 20 사이면 '11~20', 21과 30 사이면 '21~30',\n",
    "<br>아무것도 해당하지 않으면 '아무것도 해당하지 않음'이 출력되게 만드세요. \n",
    "        x=5로 두기"
   ]
  },
  {
   "cell_type": "code",
   "execution_count": 31,
   "metadata": {},
   "outputs": [
    {
     "name": "stdout",
     "output_type": "stream",
     "text": [
      "11~20\n"
     ]
    }
   ],
   "source": [
    "x = 15\n",
    "if x >= 11 :\n",
    "    if x < 21 :\n",
    "        print(\"11~20\")\n",
    "    elif x >= 21 :\n",
    "        if x < 31 :\n",
    "            print(\"21~30\")\n",
    "else :\n",
    "    print(\"아무것도 해당하지 않음\")"
   ]
  },
  {
   "cell_type": "markdown",
   "metadata": {},
   "source": [
    "- 시험점수를 입력받아\n",
    "\n",
    "      90 ~ 100점은 A,\n",
    "      \n",
    "      80 ~ 89점은 B,\n",
    "\n",
    "      70 ~ 79점은 C,\n",
    "\n",
    "      60 ~ 69점은 D,\n",
    "\n",
    "      나머지 점수는 F\n",
    "      \n",
    "를 출력하는 프로그램을 작성하시오."
   ]
  },
  {
   "cell_type": "code",
   "execution_count": 10,
   "metadata": {},
   "outputs": [
    {
     "name": "stdout",
     "output_type": "stream",
     "text": [
      "몇점인데88\n",
      "B\n"
     ]
    }
   ],
   "source": [
    "a = float(input(\"몇점인데\"))\n",
    "if 90 <= a <= 100 :\n",
    "    print('A')\n",
    "elif 80 <= a <= 89 :\n",
    "    print('B')\n",
    "elif 70 <= a <= 79 :\n",
    "    print('C')\n",
    "elif 60 <= a <= 69 :\n",
    "    print('D')\n",
    "else :\n",
    "    print('F')"
   ]
  },
  {
   "cell_type": "code",
   "execution_count": 46,
   "metadata": {},
   "outputs": [
    {
     "name": "stdout",
     "output_type": "stream",
     "text": [
      "숫자를 입력하세요. : 12\n",
      "F\n"
     ]
    }
   ],
   "source": [
    "aaa = input(\"숫자를 입력하세요. : \")\n",
    "bbb = int(aaa)\n",
    "if 60 <= bbb <= 69 :\n",
    "    print(\"D\")\n",
    "elif 70 <= bbb <= 79:\n",
    "    print('C')\n",
    "elif 80 <= bbb <= 89:\n",
    "    print('B')\n",
    "elif 90 <= bbb :\n",
    "    print('A')\n",
    "else :\n",
    "    print('F')"
   ]
  }
 ],
 "metadata": {
  "kernelspec": {
   "display_name": "Python 3",
   "language": "python",
   "name": "python3"
  },
  "language_info": {
   "codemirror_mode": {
    "name": "ipython",
    "version": 3
   },
   "file_extension": ".py",
   "mimetype": "text/x-python",
   "name": "python",
   "nbconvert_exporter": "python",
   "pygments_lexer": "ipython3",
   "version": "3.6.8"
  }
 },
 "nbformat": 4,
 "nbformat_minor": 2
}
