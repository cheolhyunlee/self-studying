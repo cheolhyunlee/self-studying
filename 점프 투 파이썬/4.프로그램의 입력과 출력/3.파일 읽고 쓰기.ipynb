{
 "cells": [
  {
   "cell_type": "markdown",
   "metadata": {},
   "source": [
    "## 파일 읽고 쓰기\n",
    "- 우리는 이 책에서 이제까지 \"입력\"을 받을 때는 사용자가 직접 입력하는 방식을 사용했고,<br>\n",
    "\"출력\"할 때는 모니터 화면에 결과값을 출력하는 방식으로 프로그래밍해 왔다.<br>\n",
    "하지만 입출력 방법이 꼭 이것만 있는 것은 아니다. 이번에는 파일을 통한 입출력 방법에 대해서 알아보자.<br>\n",
    "먼저 파일을 새로 만든 다음 프로그램에 의해서 만들어진 결과값을 새 파일에 한번 적어 보고,<br>\n",
    "또 파일에 적은 내용을 읽어 보는 프로그램을 만드는 것으로 시작해 보자."
   ]
  },
  {
   "cell_type": "markdown",
   "metadata": {},
   "source": [
    "### 파일 생성하기\n",
    "- 다음 소스 코드를 에디터로 작성해서 저장한 후 실행해 보자. <br>프로그램을 실행한 디렉터리에 새로운 파일이 하나 생성된 것을 확인할 수 있을 것이다"
   ]
  },
  {
   "cell_type": "code",
   "execution_count": 1,
   "metadata": {},
   "outputs": [
    {
     "data": {
      "text/plain": [
       "<function TextIOWrapper.close()>"
      ]
     },
     "execution_count": 1,
     "metadata": {},
     "output_type": "execute_result"
    }
   ],
   "source": [
    "f = open(\"새파일123.txt\", 'w')\n",
    "f.close"
   ]
  },
  {
   "cell_type": "markdown",
   "metadata": {},
   "source": [
    "- 파일을 생성하기 위해 우리는 open이라는 파이썬 내장 함수를 사용했다.<br>\n",
    "open 함수는 다음과 같이 \"파일 이름\"과 \"파일 열기 모드\"를 입력값으로 받고 결과값으로 파일 객체를 돌려준다.\n",
    "\n",
    "        파일 객체 = open(파일 이름, 파일 열기 모드)\n",
    "        \n",
    "- 파일 열기 모드에는 다음과 같은 것들이 있다.\n",
    "\n",
    "        파일열기모드\t설명\n",
    "        r\t        읽기모드 - 파일을 읽기만 할 때 사용\n",
    "        w\t        쓰기모드 - 파일에 내용을 쓸 때 사용\n",
    "        a\t        추가모드 - 파일의 마지막에 새로운 내용을 추가 시킬 때 사용\n",
    "\n",
    "- 파일을 쓰기 모드로 열게 되면 해당 파일이 이미 존재할 경우 원래 있던 내용이 모두 사라지고,<br>\n",
    "해당 파일이 존재하지 않으면 새로운 파일이 생성된다.<br><br>\n",
    "위의 예에서는 디렉터리에 파일이 없는 상태에서 새파일.txt를 쓰기 모드인 'w'로 열었기 때문에 새파일.txt라는 이름의 새로운 파일이 현재 디렉터리에 생성되는 것이다.<br><br>\n",
    "\n",
    "- 만약 새파일.txt라는 파일을 C:/doit이라는 디렉터리에 생성하고 싶다면 다음과 같이 작성해야 한다."
   ]
  },
  {
   "cell_type": "code",
   "execution_count": 2,
   "metadata": {},
   "outputs": [
    {
     "data": {
      "text/plain": [
       "<function TextIOWrapper.close()>"
      ]
     },
     "execution_count": 2,
     "metadata": {},
     "output_type": "execute_result"
    }
   ],
   "source": [
    "f = open(\"C:/doit/새파일.txt\",'w')\n",
    "f.close()"
   ]
  },
  {
   "cell_type": "markdown",
   "metadata": {},
   "source": [
    "- 위의 예에서 f.close()는 열려 있는 파일 객체를 닫아 주는 역할을 한다. 사실 이 문장은 생략해도 된다.<br>\n",
    "프로그램을 종료할 때 파이썬 프로그램이 열려 있는 파일의 객체를 자동으로 닫아주기 때문이다. <br>하지만 close()를 사용해서 열려 있는 파일을 직접 닫아 주는 것이 좋다. 쓰기모드로 열었던 파일을 닫지 않고 다시 사용하려고 하면 오류가 발생하기 때문이다."
   ]
  },
  {
   "cell_type": "markdown",
   "metadata": {},
   "source": [
    "### 파일을 쓰기 모드로 열어 출력값 적기\n",
    "- 위의 예에서는 파일을 쓰기 모드로 열기만 했지 정작 아무것도 쓰지는 않았다. <br>이번에는 에디터를 열고 프로그램의 출력값을 파일에 직접 써 보자."
   ]
  },
  {
   "cell_type": "code",
   "execution_count": 3,
   "metadata": {},
   "outputs": [],
   "source": [
    "f = open(\"C:/doit/새파일.txt\",'w')\n",
    "for i in range(1,11) :\n",
    "    data = \"%d번쨰 줄입니다.\\n\" % i\n",
    "    f.write(data)\n",
    "f.close()"
   ]
  },
  {
   "cell_type": "code",
   "execution_count": 12,
   "metadata": {
    "scrolled": true
   },
   "outputs": [
    {
     "name": "stdout",
     "output_type": "stream",
     "text": [
      "1번째 줄입니다.\n",
      "\n",
      "2번째 줄입니다.\n",
      "\n",
      "3번째 줄입니다.\n",
      "\n",
      "4번째 줄입니다.\n",
      "\n",
      "5번째 줄입니다.\n",
      "\n",
      "6번째 줄입니다.\n",
      "\n",
      "7번째 줄입니다.\n",
      "\n",
      "8번째 줄입니다.\n",
      "\n",
      "9번째 줄입니다.\n",
      "\n",
      "10번째 줄입니다.\n",
      "\n"
     ]
    }
   ],
   "source": [
    "#위의 프로그램을 다음 프로그램과 비교해 보자.\n",
    "\n",
    "for i in range(1, 11):\n",
    "    data = \"%d번째 줄입니다.\\n\" % i\n",
    "    print(data)"
   ]
  },
  {
   "cell_type": "markdown",
   "metadata": {},
   "source": [
    "- 두 프로그램의 다른 점은 data를 출력하는 방법이다.<br>\n",
    "두 번째 방법은 우리가 계속 사용해 왔던 모니터 화면에 출력하는 방법이고, 첫 번째 방법은 모니터 화면 대신 파일에 결과값을 적는 방법이다.<br>\n",
    "두 방법의 차이점은 print 대신 파일 객체 f의 write 함수를 이용한 것 말고는 없으니 금방 눈에 들어올 것이다."
   ]
  },
  {
   "cell_type": "markdown",
   "metadata": {},
   "source": [
    "### 프로그램의 외부에 저장된 파일을 읽는 여러 가지 방법"
   ]
  },
  {
   "cell_type": "markdown",
   "metadata": {},
   "source": [
    "#### readline() 함수 이용하기"
   ]
  },
  {
   "cell_type": "code",
   "execution_count": 1,
   "metadata": {},
   "outputs": [
    {
     "name": "stdout",
     "output_type": "stream",
     "text": [
      "1번쨰 줄입니다.\n",
      "\n"
     ]
    },
    {
     "data": {
      "text/plain": [
       "<function TextIOWrapper.close()>"
      ]
     },
     "execution_count": 1,
     "metadata": {},
     "output_type": "execute_result"
    }
   ],
   "source": [
    "f = open(\"C:/doit/새파일.txt\", 'r')\n",
    "line = f.readline()\n",
    "print(line)\n",
    "f.close()"
   ]
  },
  {
   "cell_type": "markdown",
   "metadata": {},
   "source": [
    "- 위 예는 f.open(\"새파일.txt\", 'r')로 파일을 읽기 모드로 연 후 readline()을 이용해서 파일의 첫 번째 줄을 읽어 출력하는 경우이다.<br> 이전에 만들었던 새파일.txt를 수정하거나 지우지 않았다면 위 프로그램을 실행시켰을 때 새파일.txt의 가장 첫 번째 줄이 화면에 출력될 것이다."
   ]
  },
  {
   "cell_type": "code",
   "execution_count": 2,
   "metadata": {},
   "outputs": [
    {
     "name": "stdout",
     "output_type": "stream",
     "text": [
      "1번쨰 줄입니다.\n",
      "\n",
      "2번쨰 줄입니다.\n",
      "\n",
      "3번쨰 줄입니다.\n",
      "\n",
      "4번쨰 줄입니다.\n",
      "\n",
      "5번쨰 줄입니다.\n",
      "\n",
      "6번쨰 줄입니다.\n",
      "\n",
      "7번쨰 줄입니다.\n",
      "\n",
      "8번쨰 줄입니다.\n",
      "\n",
      "9번쨰 줄입니다.\n",
      "\n",
      "10번쨰 줄입니다.\n",
      "\n"
     ]
    }
   ],
   "source": [
    "# 만약 모든 라인을 읽어서 화면에 출력하고 싶다면 다음과 같이 작성하면 된다.\n",
    "f = open(\"C:/doit/새파일.txt\", 'r')\n",
    "while True :\n",
    "    line = f.readline()\n",
    "    if not line : break\n",
    "    print(line)\n",
    "f.close()\n",
    "\n",
    "# 즉, while True:라는 무한 루프 안에서 f.readline()을 이용해 파일을 계속해서 한 줄씩 읽어들이도록 한다.\n",
    "# 만약 더 이상 읽을 라인이 없으면 break를 수행한다(readline()은 더 이상 읽을 라인이 없을 경우 None을 출력한다)."
   ]
  },
  {
   "cell_type": "code",
   "execution_count": 5,
   "metadata": {},
   "outputs": [
    {
     "name": "stdout",
     "output_type": "stream",
     "text": [
      "5\n",
      "5\n",
      "6\n",
      "6\n",
      "4\n",
      "4\n",
      "\n"
     ]
    }
   ],
   "source": [
    "# 앞의 프로그램을 다음 프로그램과 비교해 보자.\n",
    "while 1 :\n",
    "    data = input()\n",
    "    if not data : break\n",
    "    print(data)\n",
    "\n",
    "#위의 예는 사용자의 입력을 받아서 그 내용을 출력하는 경우이다.\n",
    "#파일을 읽어서 출력하는 예제와 비교해 보자. 입력을 받는 방식만 다르다는 것을 금방 알 수 있을 것이다. \n",
    "#두 번째 예는 키보드를 이용한 입력 방법이고, 첫 번째 예는 파일을 이용한 입력 방법이다. "
   ]
  },
  {
   "cell_type": "markdown",
   "metadata": {},
   "source": [
    "#### readlines() 함수 이용하기"
   ]
  },
  {
   "cell_type": "code",
   "execution_count": 1,
   "metadata": {},
   "outputs": [
    {
     "name": "stdout",
     "output_type": "stream",
     "text": [
      "1번쨰 줄입니다.\n",
      "\n",
      "2번쨰 줄입니다.\n",
      "\n",
      "3번쨰 줄입니다.\n",
      "\n",
      "4번쨰 줄입니다.\n",
      "\n",
      "5번쨰 줄입니다.\n",
      "\n",
      "6번쨰 줄입니다.\n",
      "\n",
      "7번쨰 줄입니다.\n",
      "\n",
      "8번쨰 줄입니다.\n",
      "\n",
      "9번쨰 줄입니다.\n",
      "\n",
      "10번쨰 줄입니다.\n",
      "\n"
     ]
    }
   ],
   "source": [
    "f = open(\"C:/doit/새파일.txt\", 'r')\n",
    "lines = f.readlines()\n",
    "for line in lines :\n",
    "    print(line)\n",
    "f.close()"
   ]
  },
  {
   "cell_type": "markdown",
   "metadata": {},
   "source": [
    "- readlines() 함수는 파일의 모든 라인을 읽어서 각각의 줄을 요소로 갖는 리스트로 리턴한다.<br>\n",
    "따라서 위의 예에서 lines는\n",
    "        [\"1 번째 줄입니다.\\n\",\"2 번째 줄입니다.\\n\",..., \"10 번째 줄입니다.\\n\"]\n",
    "라는 *리스트*가 된다.<br>f.readlines()에서 f.readline()과는 달리 s가 하나 더 붙어 있음에 유의하자."
   ]
  },
  {
   "cell_type": "markdown",
   "metadata": {},
   "source": [
    "#### read() 함수 이용하기"
   ]
  },
  {
   "cell_type": "code",
   "execution_count": 5,
   "metadata": {},
   "outputs": [
    {
     "name": "stdout",
     "output_type": "stream",
     "text": [
      "1번쨰 줄입니다.\n",
      "2번쨰 줄입니다.\n",
      "3번쨰 줄입니다.\n",
      "4번쨰 줄입니다.\n",
      "5번쨰 줄입니다.\n",
      "6번쨰 줄입니다.\n",
      "7번쨰 줄입니다.\n",
      "8번쨰 줄입니다.\n",
      "9번쨰 줄입니다.\n",
      "10번쨰 줄입니다.\n",
      "\n"
     ]
    },
    {
     "data": {
      "text/plain": [
       "str"
      ]
     },
     "execution_count": 5,
     "metadata": {},
     "output_type": "execute_result"
    }
   ],
   "source": [
    "f = open(\"C:/doit/새파일.txt\", 'r')\n",
    "data = f.read() # f.read()는 파일의 내용 전체를 문자열로 리턴한다. 따라서 위 예의 data는 파일의 전체 내용이다.\n",
    "print(data)\n",
    "f.close\n",
    "type(data)"
   ]
  },
  {
   "cell_type": "markdown",
   "metadata": {},
   "source": [
    "### 파일에 새로운 내용 추가하기\n",
    "- 쓰기 모드('w')로 파일을 열 때 이미 존재하는 파일을 열 경우 그 파일의 내용이 모두 사라지게 된다고 했다.<br>\n",
    "하지만 원래 있던 값을 유지하면서 단지 새로운 값만 추가해야 할 경우도 있다.<br>\n",
    "이런 경우에는 파일을 추가 모드('a')로 열면 된다."
   ]
  },
  {
   "cell_type": "code",
   "execution_count": 7,
   "metadata": {},
   "outputs": [],
   "source": [
    "f = open(\"C:/doit/새파일.txt\",'a')\n",
    "for i in range(11,20) :\n",
    "    data = \"%d번째 줄입니다.\\n\" % i\n",
    "    f.write(data)\n",
    "f.close()"
   ]
  },
  {
   "cell_type": "markdown",
   "metadata": {},
   "source": [
    "- 위 예는 새파일.txt라는 파일을 추가 모드('a')로 열고 write를 이용해서 결과값을 기존 파일에 추가해 적는 예이다. 여기서 추가 모드로 파일을 열었기 때문에 새파일.txt라는 파일이 원래 가지고 있던 내용 바로 다음부터 결과값을 적기 시작한다.\n",
    "<br><br>\n",
    "- 새파일.txt 파일을 확인해 보면 원래 있던 파일 뒷부분에 새로운 내용이 추가되었음을 볼 수 있다."
   ]
  },
  {
   "cell_type": "markdown",
   "metadata": {},
   "source": [
    "### with문과 함께 사용하기\n",
    "- 지금까지 살펴본 예제를 보면 항상 다음과 같은 방식으로 파일을 열고 닫아 왔다."
   ]
  },
  {
   "cell_type": "code",
   "execution_count": 8,
   "metadata": {},
   "outputs": [],
   "source": [
    "f = open(\"foo.txt\", 'w')\n",
    "f.write(\"Life is too short, you need python\")\n",
    "f.close()\n",
    "# 파일을 열면 위와 같이 항상 close해 주는 것이 좋다.\n",
    "# 하지만 이렇게 파일을 열고 닫는 것을 자동으로 처리할 수 있다면 편리하지 않을까?"
   ]
  },
  {
   "cell_type": "code",
   "execution_count": 9,
   "metadata": {},
   "outputs": [],
   "source": [
    "# 파이썬의 with문이 바로 이런 역할을 해준다.\n",
    "with open(\"foo.txt\",'w') as f :\n",
    "    f.write(\"Life is too short, you need python\")\n",
    "# 위와 같이 with문을 이용하면 with 블록을 벗어나는 순간 열린 파일 객체 f가 자동으로 close되어 편리하다."
   ]
  },
  {
   "cell_type": "markdown",
   "metadata": {},
   "source": [
    "## 연습문제"
   ]
  },
  {
   "cell_type": "markdown",
   "metadata": {},
   "source": [
    "- [문제1] 파일 읽고 출력하기<br>\n",
    "다음은 \"test.txt\"라는 파일에 \"Life is too short\" 라는 문자열을 저장한 후 다시 그 파일을 읽어서 출력하는 프로그램이다.\n",
    "\n",
    "        f1 = open(\"test.txt\", 'w')\n",
    "        f1.write(\"Life is too short\")\n",
    "    \n",
    "        f2 = open(\"test.txt\", 'r')\n",
    "        print(f2.read())\n",
    "- 이 프로그램은 우리가 예상한 \"Life is too short\"라는 문장을 출력하지 않는다. 우리가 예상한 값을 출력할 수 있도록 프로그램을 수정하시오.\n",
    "\n"
   ]
  },
  {
   "cell_type": "code",
   "execution_count": 3,
   "metadata": {},
   "outputs": [
    {
     "name": "stdout",
     "output_type": "stream",
     "text": [
      "Life is too short\n"
     ]
    }
   ],
   "source": [
    "f1 = open(\"test.txt\", 'w')\n",
    "f1.write(\"Life is too short\")\n",
    "f1.close()\n",
    "\n",
    "f2 = open(\"test.txt\", 'r')\n",
    "print(f2.read())"
   ]
  },
  {
   "cell_type": "code",
   "execution_count": 5,
   "metadata": {},
   "outputs": [
    {
     "name": "stdout",
     "output_type": "stream",
     "text": [
      "Life is too short!\n"
     ]
    }
   ],
   "source": [
    "# 답안\n",
    "#질문의 예와같이 파일을 닫지 않은 상태에서 다시 열면 파일에 저장한 데이터를 읽을 수 없다.\n",
    "#따라서 열려진 파일 객체를 close로 닫아준 후 다시 열어서 파일의 내용을 읽어야 한다.\n",
    "\n",
    "f1 = open(\"test.txt\", 'w')\n",
    "f1.write(\"Life is too short!\")\n",
    "f1.close()  # 열려진 파일 객체를 닫는다.\n",
    "\n",
    "f2 = open(\"test.txt\", 'r')\n",
    "print(f2.read())\n",
    "f2.close()"
   ]
  },
  {
   "cell_type": "code",
   "execution_count": 6,
   "metadata": {},
   "outputs": [
    {
     "name": "stdout",
     "output_type": "stream",
     "text": [
      "Life is too short!\n"
     ]
    }
   ],
   "source": [
    "#또는 다음과 같이 close를 명시적으로 할 필요가 없는 with구문을 이용한다.\n",
    "\n",
    "with open(\"test.txt\", 'w') as f1:\n",
    "    f1.write(\"Life is too short!\")\n",
    "\n",
    "with open(\"test.txt\", 'r') as f2:\n",
    "    print(f2.read())"
   ]
  },
  {
   "cell_type": "markdown",
   "metadata": {},
   "source": [
    "- [문제2] 파일저장<br>\n",
    "사용자의 입력을 파일(test.txt)에 저장하는 프로그램을 작성하시오.<br>\n",
    "(단, 프로그램을 다시 실행하더라도 기존 작성한 내용을 유지하고 새로 입력한 내용이 추가되어야 한다.)\n",
    "<br><br>\n",
    "- 다음은 실행 예제이다.\n",
    "\n",
    "        저장할 내용을 입력하세요:\n",
    "실행 할 때마다 사용자가 입력한 내용이 test.txt파일에 추가되어야 한다."
   ]
  },
  {
   "cell_type": "code",
   "execution_count": 12,
   "metadata": {},
   "outputs": [],
   "source": [
    "f1 = open(\"C:/doit/cast.txt\",'w')\n",
    "f1.close()"
   ]
  },
  {
   "cell_type": "code",
   "execution_count": 24,
   "metadata": {},
   "outputs": [
    {
     "name": "stdout",
     "output_type": "stream",
     "text": [
      "저장할 내용을 입력하세요:445554\n"
     ]
    }
   ],
   "source": [
    "f2 = open(\"C:/doit/cast.txt\",'a')\n",
    "k = input(\"저장할 내용을 입력하세요:\")\n",
    "f2.write(k + \"\\n\")\n",
    "f2.close()"
   ]
  },
  {
   "cell_type": "code",
   "execution_count": 26,
   "metadata": {},
   "outputs": [
    {
     "name": "stdout",
     "output_type": "stream",
     "text": [
      "저장할 내용을 입력하세요:savsav\n"
     ]
    }
   ],
   "source": [
    "f2 = open(\"cast.txt\",'a')\n",
    "k = input(\"저장할 내용을 입력하세요:\")\n",
    "f2.write(k + \"\\n\")\n",
    "f2.close()"
   ]
  },
  {
   "cell_type": "code",
   "execution_count": null,
   "metadata": {},
   "outputs": [],
   "source": [
    "# 답안\n",
    "user_input = input(\"저장할 내용을 입력하세요:\")\n",
    "f = open('test.txt', 'a')  # 내용을 추가하기 위해서 'a'를 사용\n",
    "f.write(user_input)\n",
    "f.write(\"\\n\")  # 입력된 내용을 줄단위로 구분하기 위해 줄바꿈 문자 삽입\n",
    "f.close()"
   ]
  },
  {
   "cell_type": "markdown",
   "metadata": {},
   "source": [
    "- [문제3] 역순 저장\n",
    "    다음과 같은 내용의 파일 abc.txt가 있다.\n",
    "\n",
    "        abc.txt\n",
    "\n",
    "        AAA\n",
    "        BBB\n",
    "        CCC\n",
    "        DDD\n",
    "        EEE\n",
    "\n",
    "- 이 파일의 내용을 다음과 같이 역순으로 바꾸어 저장하시오.\n",
    "\n",
    "        EEE\n",
    "        DDD\n",
    "        CCC\n",
    "        BBB\n",
    "        AAA"
   ]
  },
  {
   "cell_type": "code",
   "execution_count": 50,
   "metadata": {},
   "outputs": [],
   "source": [
    "f1 = open(\"abc.txt\",'w')\n",
    "a = \"\"\"AAA\n",
    "BBB\n",
    "CCC\n",
    "DDD\n",
    "EEE\n",
    "\"\"\"\n",
    "f1.write(a)\n",
    "f1.close()"
   ]
  },
  {
   "cell_type": "code",
   "execution_count": 42,
   "metadata": {},
   "outputs": [],
   "source": [
    "f2 = open(\"abc.txt\",'w')\n",
    "a = \"\"\"EEE\n",
    "DDD\n",
    "CCC\n",
    "BBB\n",
    "AAA\"\"\"\n",
    "f2.write(a)\n",
    "f2.close()"
   ]
  },
  {
   "cell_type": "code",
   "execution_count": 51,
   "metadata": {},
   "outputs": [],
   "source": [
    "# 답안\n",
    "f1 = open(\"abc.txt\",'r')\n",
    "lines = f1.readlines()\n",
    "f1.close()\n",
    "\n",
    "lines.reverse()\n",
    "\n",
    "f2 = open(\"abc.txt\",'w')\n",
    "for line in lines :\n",
    "    f2.write(line)\n",
    "f2.close()"
   ]
  },
  {
   "cell_type": "code",
   "execution_count": null,
   "metadata": {},
   "outputs": [],
   "source": [
    "for a in range(len(lines),0,-1) :\n",
    "    f2.write(lines[a])"
   ]
  },
  {
   "cell_type": "markdown",
   "metadata": {},
   "source": [
    "- [문제4] 파일 수정<br>\n",
    "    다음과 같은 내용을 지닌 파일 test.txt 가 있다.\n",
    "\n",
    "        test.txt\n",
    "\n",
    "        Life is too short\n",
    "        you need java\n",
    "- 이 파일의 내용중 java라는 문자열을 python으로 바꾸어서 저장하시오.\n",
    "\n"
   ]
  },
  {
   "cell_type": "code",
   "execution_count": 79,
   "metadata": {},
   "outputs": [],
   "source": [
    "f1 = open(\"python.txt\",'w')\n",
    "k = \"\"\"Life is too short\n",
    "you need java\"\"\"\n",
    "f1.write(k)\n",
    "f1.close()"
   ]
  },
  {
   "cell_type": "code",
   "execution_count": 80,
   "metadata": {},
   "outputs": [],
   "source": [
    "f2 = open(\"python.txt\",'r')\n",
    "j = f2.readlines()\n",
    "f2.close()\n",
    "\n",
    "j[1] = \"you need python\\n\"\n",
    "\n",
    "f3 = open(\"python.txt\",'w')\n",
    "for g in j :\n",
    "    f3.write(g)\n",
    "f3.close()"
   ]
  },
  {
   "cell_type": "code",
   "execution_count": null,
   "metadata": {},
   "outputs": [],
   "source": [
    "# 답안\n",
    "f = open('test.txt', 'r')\n",
    "body = f.read()\n",
    "f.close()\n",
    "\n",
    "body = body.replace('java', 'python')\n",
    "\n",
    "f = open('test.txt', 'w')\n",
    "f.write(body)\n",
    "f.close()"
   ]
  },
  {
   "cell_type": "markdown",
   "metadata": {},
   "source": [
    "- [문제5] 평균값 구하기<br>\n",
    "다음과 같이 총 10줄로 이루어진 sample.txt 파일이 있다.\n",
    "\n",
    "        sample.txt\n",
    "\n",
    "        70\n",
    "        60\n",
    "        55\n",
    "        75\n",
    "        95\n",
    "        90\n",
    "        80\n",
    "        80\n",
    "        85\n",
    "        100\n",
    "- sample.txt 파일의 숫자값을 모두 읽어 총합과 평균값을 구한 후 평균값을 result.txt라는 파일에 쓰는 프로그램을 작성해 보자."
   ]
  },
  {
   "cell_type": "code",
   "execution_count": 86,
   "metadata": {},
   "outputs": [],
   "source": [
    "f1 = open(\"sample.txt\",'r')\n",
    "t = f1.readlines()\n",
    "f1.close()\n",
    "\n",
    "result=0\n",
    "\n",
    "for i in t :\n",
    "    result = result + int(i)\n",
    "\n",
    "k = result/len(t)\n",
    "\n",
    "f2 = open(\"result.txt\",'w')\n",
    "f2.write(str(k))\n",
    "f2.close()"
   ]
  },
  {
   "cell_type": "code",
   "execution_count": 88,
   "metadata": {},
   "outputs": [],
   "source": [
    "#답안\n",
    "f = open(\"sample.txt\")\n",
    "lines = f.readlines( )  # sample.txt를 줄단위로 모두 읽는다.\n",
    "f.close( )\n",
    "\n",
    "total = 0\n",
    "for line in lines:\n",
    "    score = int(line)  # 줄에 적힌 점수를 숫자형으로 변환한다.\n",
    "    total += score\n",
    "average = total / len(lines)\n",
    "\n",
    "f = open(\"result.txt\", \"w\")\n",
    "f.write(str(average))\n",
    "f.close()"
   ]
  },
  {
   "cell_type": "markdown",
   "metadata": {},
   "source": [
    "- sample.txt의 점수를 모두 읽기 위해 파일을 열고 readlines를 이용하여 각 줄의 점수 값을 모두 읽어 들여\n",
    "총 점수를 구한다. <br>총 점수를 sample.txt 파일의 라인(Line) 수로 나누어 평균값을 구한 후\n",
    "그 결과를 result.txt 파일에 쓴다. <br>숫자 값은 result.txt 파일에 바로 쓸 수 없으므로 str함수를 이용하여\n",
    "문자열로 변경한 후 파일에 쓴다."
   ]
  },
  {
   "cell_type": "code",
   "execution_count": 22,
   "metadata": {},
   "outputs": [
    {
     "name": "stdout",
     "output_type": "stream",
     "text": [
      "10\n",
      "9\n",
      "8\n",
      "7\n",
      "6\n",
      "5\n",
      "4\n",
      "3\n",
      "2\n"
     ]
    }
   ],
   "source": [
    "for i in range(10,1,-1):\n",
    "    print(i)"
   ]
  }
 ],
 "metadata": {
  "kernelspec": {
   "display_name": "Python 3",
   "language": "python",
   "name": "python3"
  },
  "language_info": {
   "codemirror_mode": {
    "name": "ipython",
    "version": 3
   },
   "file_extension": ".py",
   "mimetype": "text/x-python",
   "name": "python",
   "nbconvert_exporter": "python",
   "pygments_lexer": "ipython3",
   "version": "3.6.8"
  }
 },
 "nbformat": 4,
 "nbformat_minor": 2
}
