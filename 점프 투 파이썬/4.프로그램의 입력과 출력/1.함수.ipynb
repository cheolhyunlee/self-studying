{
 "cells": [
  {
   "cell_type": "markdown",
   "metadata": {},
   "source": [
    "## 함수란 무엇인가?\n",
    "- 입력값을 가지고 어떤 일을 수행한 다음에 그 결과물을 내어놓는 것\n",
    "- 프로그래밍에 있어서 함수는 정말 중요"
   ]
  },
  {
   "cell_type": "markdown",
   "metadata": {},
   "source": [
    "### 파이썬 함수의 구조\n",
    "- 파이썬 함수의 구조는 다음과 같다.\n",
    "\n",
    "        def 함수명(매개변수):\n",
    "            <수행할 문장1>\n",
    "            <수행할 문장2>\n",
    "            ...\n",
    "- def는 함수를 만들 때 사용하는 예약어이며, 함수명은 함수를 만드는 사람이 임의로 만들 수 있다.<br>함수명 뒤 괄호 안의 *매개변수는 이 함수에 입력으로 전달되는 값을 받는 변수*이다.<br>이렇게 함수를 정의한 다음 if, while, for문 등과 마찬가지로 함수에서 수행할 문장들을 입력한다."
   ]
  },
  {
   "cell_type": "markdown",
   "metadata": {},
   "source": [
    "- \"이 함수의 이름(함수명)은 add이고 입력으로 2개의 값을 받으며 결과값은 2개의 입력값을 더한 값이다.\"\n",
    "        def add(a, b): \n",
    "            return a + b\n",
    "- 여기서 return은 함수의 결과값을 돌려주는 명령어이다."
   ]
  },
  {
   "cell_type": "code",
   "execution_count": 22,
   "metadata": {},
   "outputs": [],
   "source": [
    "def add(a,b) :\n",
    "    return a + b"
   ]
  },
  {
   "cell_type": "code",
   "execution_count": 24,
   "metadata": {
    "scrolled": true
   },
   "outputs": [
    {
     "data": {
      "text/plain": [
       "5"
      ]
     },
     "execution_count": 24,
     "metadata": {},
     "output_type": "execute_result"
    }
   ],
   "source": [
    "a = 3 ; b = 2\n",
    "add(a,b)"
   ]
  },
  {
   "cell_type": "code",
   "execution_count": 21,
   "metadata": {
    "scrolled": true
   },
   "outputs": [
    {
     "name": "stdout",
     "output_type": "stream",
     "text": [
      "숫자 넣어봐 : 6\n",
      "한개 더 : 4\n"
     ]
    },
    {
     "data": {
      "text/plain": [
       "10.0"
      ]
     },
     "execution_count": 21,
     "metadata": {},
     "output_type": "execute_result"
    }
   ],
   "source": [
    "a = float(input(\"숫자 넣어봐 : \"))\n",
    "b = float(input(\"한개 더 : \"))\n",
    "\n",
    "def add(a,b) :\n",
    "    return a+b\n",
    "add(a,b)"
   ]
  },
  {
   "cell_type": "markdown",
   "metadata": {},
   "source": [
    "### 매개변수와 인수\n",
    "- 매개변수(parameter)와 인수(arguments)는 혼용해서 사용되는 헷갈리는 용어이므로 잘 기억해 두기로 하자. <br>매개변수는 함수에 입력으로 전달된 값을 받는 변수를 의미하고 <br>인수는 함수를 호출할 때 전달하는 입력값을 의미한다."
   ]
  },
  {
   "cell_type": "code",
   "execution_count": 25,
   "metadata": {},
   "outputs": [
    {
     "name": "stdout",
     "output_type": "stream",
     "text": [
      "7\n"
     ]
    }
   ],
   "source": [
    "def add(a, b):  # a, b는 매개변수\n",
    "    return a+b\n",
    "\n",
    "print(add(3, 4))  # 3, 4는 인수\n",
    "# 입력값을 다른 말로 함수의 인수, 입력 인수 등으로 말하기도 하고 결과값을 출력값, 리턴값, 돌려주는 값"
   ]
  },
  {
   "cell_type": "markdown",
   "metadata": {},
   "source": [
    "### 입력값과 결과값에 따른 함수의 형태\n",
    "- 함수는 들어온 입력값을 받아 어떤 처리를 하여 적절한 결과값을 돌려준다.\n",
    "\n",
    "        입력값 ---> 함수 ----> 리턴값\n",
    "\n",
    "- 함수의 형태는 입력값과 결과값의 존재 유무에 따라 4가지 유형으로 나뉜다. 자세히 알아보자."
   ]
  },
  {
   "cell_type": "markdown",
   "metadata": {},
   "source": [
    "#### 일반적인 함수\n",
    "- 입력값이 있고 결과값이 있는 함수가 일반적인 함수이다. <br>앞으로 여러분이 프로그래밍을 할 때 만들 함수는 대부분 다음과 비슷한 형태일 것이다.\n",
    "\n",
    "        def 함수이름(매개변수):\n",
    "            <수행할 문장>\n",
    "            ...\n",
    "            return 결과값\n",
    "            \n",
    "- 다음은 일반적인 함수의 전형적인 예이다."
   ]
  },
  {
   "cell_type": "code",
   "execution_count": 2,
   "metadata": {},
   "outputs": [],
   "source": [
    "def add(a, b): \n",
    "    result = a + b \n",
    "    return result # add 함수는 2개의 입력값을 받아서 서로 더한 결과값을 돌려준다."
   ]
  },
  {
   "cell_type": "code",
   "execution_count": 3,
   "metadata": {},
   "outputs": [
    {
     "name": "stdout",
     "output_type": "stream",
     "text": [
      "7\n"
     ]
    }
   ],
   "source": [
    "a = add(3,4)\n",
    "print(a)"
   ]
  },
  {
   "cell_type": "markdown",
   "metadata": {},
   "source": [
    "- 이처럼 입력값과 결과값이 있는 함수의 사용법을 정리하면 다음과 같다.\n",
    "\n",
    "        결과값을 받을 변수 = 함수명(입력 인수 1, 입력 인수 2, ...)"
   ]
  },
  {
   "cell_type": "markdown",
   "metadata": {},
   "source": [
    "#### 입력값이 없는 함수"
   ]
  },
  {
   "cell_type": "code",
   "execution_count": 6,
   "metadata": {},
   "outputs": [],
   "source": [
    "def say() :\n",
    "    return 'hohoho'"
   ]
  },
  {
   "cell_type": "code",
   "execution_count": 7,
   "metadata": {},
   "outputs": [
    {
     "name": "stdout",
     "output_type": "stream",
     "text": [
      "hohoho\n"
     ]
    }
   ],
   "source": [
    "a = say()\n",
    "print(a)"
   ]
  },
  {
   "cell_type": "markdown",
   "metadata": {},
   "source": [
    "- 이처럼 입력값이 없고 결과값만 있는 함수는 다음과 같이 사용된다.\n",
    "\n",
    "        결과값을 받을 변수 = 함수명()"
   ]
  },
  {
   "cell_type": "markdown",
   "metadata": {},
   "source": [
    "#### 결과값이 없는 함수"
   ]
  },
  {
   "cell_type": "code",
   "execution_count": 11,
   "metadata": {},
   "outputs": [],
   "source": [
    "def add(a,b) :\n",
    "    print(\"%d, %d의 합은 %d입니다.\" % (a,b,a+b))"
   ]
  },
  {
   "cell_type": "code",
   "execution_count": 13,
   "metadata": {},
   "outputs": [
    {
     "name": "stdout",
     "output_type": "stream",
     "text": [
      "3, 4의 합은 7입니다.\n"
     ]
    }
   ],
   "source": [
    "add(3,4)"
   ]
  },
  {
   "cell_type": "markdown",
   "metadata": {},
   "source": [
    "- 즉, 결과값이 없는 함수는 다음과 같이 사용한다.\n",
    "\n",
    "        함수명(입력 인수1, 입력 인수2, ...)\n",
    "- print문은 함수의 구성 요소 중 하나인 <수행할 문장>에 해당하는 부분일 뿐이다.<br>결과값은 당연히 없다. 결과값은 오직 return 명령어로만 돌려받을 수 있다."
   ]
  },
  {
   "cell_type": "code",
   "execution_count": 14,
   "metadata": {},
   "outputs": [
    {
     "name": "stdout",
     "output_type": "stream",
     "text": [
      "3, 4의 합은 7입니다.\n",
      "None\n"
     ]
    }
   ],
   "source": [
    "a = add(3,4)\n",
    "print(a)\n",
    "# a의 값은 None이다. None이란 거짓을 나타내는 자료형이라고 언급한 적이 있다.\n",
    "#add 함수처럼 결과값이 없을 때 a = add(3, 4)처럼 쓰게 되면 함수 add는 리턴값으로 a 변수에 None을 돌려준다."
   ]
  },
  {
   "cell_type": "markdown",
   "metadata": {},
   "source": [
    "#### 입력값도 결과값도 없는 함수"
   ]
  },
  {
   "cell_type": "code",
   "execution_count": 16,
   "metadata": {},
   "outputs": [],
   "source": [
    "def say() :\n",
    "    print('hi')\n",
    "#입력 인수를 받는 매개변수도 없고 return문도 없으니 입력값도 결과값도 없는 함수이다.\n",
    "#이 함수를 사용하는 방법은 단 한 가지이다."
   ]
  },
  {
   "cell_type": "code",
   "execution_count": 17,
   "metadata": {
    "scrolled": true
   },
   "outputs": [
    {
     "name": "stdout",
     "output_type": "stream",
     "text": [
      "hi\n"
     ]
    }
   ],
   "source": [
    "say()"
   ]
  },
  {
   "cell_type": "markdown",
   "metadata": {},
   "source": [
    "- 즉, 입력값도 결과값도 없는 함수는 다음과 같이 사용한다.\n",
    "\n",
    "        함수명()"
   ]
  },
  {
   "cell_type": "markdown",
   "metadata": {},
   "source": [
    "### 매개변수 지정하여 호출하기\n",
    "- 함수를 호출 할 때 매개변수를 지정하여 호출할 수도 있다."
   ]
  },
  {
   "cell_type": "code",
   "execution_count": 2,
   "metadata": {},
   "outputs": [],
   "source": [
    "def add(a,b) :\n",
    "    return a+b"
   ]
  },
  {
   "cell_type": "code",
   "execution_count": 3,
   "metadata": {},
   "outputs": [
    {
     "name": "stdout",
     "output_type": "stream",
     "text": [
      "10\n",
      "9\n"
     ]
    }
   ],
   "source": [
    "result = add(a = 3, b = 7)\n",
    "print(result)\n",
    "\n",
    "#매개변수를 지정하면 다음과 같이 순서에 상관없이 사용할 수 있다.\n",
    "\n",
    "result = add(b=7 , a=2)\n",
    "print(result) "
   ]
  },
  {
   "cell_type": "markdown",
   "metadata": {},
   "source": [
    "### 입력값이 몇 개가 될지 모를 때는 어떻게 해야 할까?\n",
    "- 입력값이 여러 개일 때 그 입력값들을 모두 더해 주는 함수를 생각해 보자.<br>하지만 몇 개가 입력될지 모를 때는 어떻게 해야 할까? 아마도 난감할 것이다.<br>파이썬은 이런 문제를 해결하기 위해 다음과 같은 방법을 제공한다.\n",
    "\n",
    "        def 함수이름(*매개변수): \n",
    "            <수행할 문장>\n",
    "            ...\n",
    "- 일반적으로 볼 수 있는 함수 형태에서 괄호 안의 매개변수 부분이 *매개변수로 바뀌었다."
   ]
  },
  {
   "cell_type": "code",
   "execution_count": 42,
   "metadata": {},
   "outputs": [],
   "source": [
    "def add_many(*args) : # 매개변수명 앞에 *을 붙이면 입력값들을 전부 모아서 튜플로 만들어 주기 때문\n",
    "    result = 0\n",
    "    for i in args :\n",
    "        result = result + i\n",
    "    return result\n",
    "\n",
    "# ※ args는 입력 인수를 뜻하는 영어 단어인 arguments의 약자이며 관례적으로 자주 사용한다."
   ]
  },
  {
   "cell_type": "code",
   "execution_count": 43,
   "metadata": {},
   "outputs": [
    {
     "data": {
      "text/plain": [
       "2154"
      ]
     },
     "execution_count": 43,
     "metadata": {},
     "output_type": "execute_result"
    }
   ],
   "source": [
    "add_many(645,654,6,46,64,46,564,64,65)"
   ]
  },
  {
   "cell_type": "markdown",
   "metadata": {},
   "source": [
    ">여러개의 입력을 처리할 때 def add_many(*args)처럼 함수의 매개변수로 *args만 단독으로 사용할 수 있는 것은 아니다."
   ]
  },
  {
   "cell_type": "code",
   "execution_count": 4,
   "metadata": {},
   "outputs": [],
   "source": [
    "def add_mul(choice, *args) :\n",
    "    if choice == \"add\" :\n",
    "        result = 0\n",
    "        for i in args :\n",
    "            result = result + i\n",
    "    elif choice == \"mul\" :\n",
    "        result = 1\n",
    "        for i in args :\n",
    "            result = result * i\n",
    "    return result"
   ]
  },
  {
   "cell_type": "code",
   "execution_count": 5,
   "metadata": {},
   "outputs": [
    {
     "data": {
      "text/plain": [
       "717"
      ]
     },
     "execution_count": 5,
     "metadata": {},
     "output_type": "execute_result"
    }
   ],
   "source": [
    "add_mul('add', 64,4,645,4)"
   ]
  },
  {
   "cell_type": "code",
   "execution_count": 6,
   "metadata": {},
   "outputs": [
    {
     "data": {
      "text/plain": [
       "3898440"
      ]
     },
     "execution_count": 6,
     "metadata": {},
     "output_type": "execute_result"
    }
   ],
   "source": [
    "add_mul('mul', 7,8,91,51,15)"
   ]
  },
  {
   "cell_type": "markdown",
   "metadata": {},
   "source": [
    "### 키워드 파라미터 kwargs\n",
    "    kwargs는 keyword arguments의 약어이다. \n",
    "    **kwargs는 args와는 달리 별표시(*)가 두 개 사용된다."
   ]
  },
  {
   "cell_type": "code",
   "execution_count": 4,
   "metadata": {},
   "outputs": [],
   "source": [
    "def print_kwargs(**kwargs) : # 이 함수는 매개변수 kwargs를 출력하는 함수이다.\n",
    "    print(kwargs)"
   ]
  },
  {
   "cell_type": "code",
   "execution_count": 8,
   "metadata": {},
   "outputs": [
    {
     "name": "stdout",
     "output_type": "stream",
     "text": [
      "{'a': 1}\n"
     ]
    }
   ],
   "source": [
    "print_kwargs(a=1)"
   ]
  },
  {
   "cell_type": "code",
   "execution_count": 6,
   "metadata": {},
   "outputs": [
    {
     "name": "stdout",
     "output_type": "stream",
     "text": [
      "{'name': 'foo', 'age': 5}\n"
     ]
    }
   ],
   "source": [
    "print_kwargs(name='foo', age = 5)"
   ]
  },
  {
   "cell_type": "markdown",
   "metadata": {},
   "source": [
    "    입력이 모두 딕셔너리로 만들어져서 출력된다는 것을 확인 할 수 있다.\n",
    "    즉, **kwargs 처럼 매개변수명 앞에 **을 붙이면 매개변수 kwargs는 딕셔너리가 되고 \n",
    "    모든 key=value 형태의 입력인수가 그 딕셔너리에 저장된다."
   ]
  },
  {
   "cell_type": "markdown",
   "metadata": {},
   "source": [
    "### 함수의 결과값은 언제나 하나이다"
   ]
  },
  {
   "cell_type": "code",
   "execution_count": 13,
   "metadata": {},
   "outputs": [],
   "source": [
    "def add_and_mul(a,b):\n",
    "    return a+b, a*b"
   ]
  },
  {
   "cell_type": "code",
   "execution_count": 14,
   "metadata": {},
   "outputs": [
    {
     "data": {
      "text/plain": [
       "(8, 15)"
      ]
     },
     "execution_count": 14,
     "metadata": {},
     "output_type": "execute_result"
    }
   ],
   "source": [
    "add_and_mul(3,5)"
   ]
  },
  {
   "cell_type": "code",
   "execution_count": 15,
   "metadata": {},
   "outputs": [
    {
     "data": {
      "text/plain": [
       "(12, 27)"
      ]
     },
     "execution_count": 15,
     "metadata": {},
     "output_type": "execute_result"
    }
   ],
   "source": [
    "add_and_mul(3,9)"
   ]
  },
  {
   "cell_type": "markdown",
   "metadata": {},
   "source": [
    "- 결과값은 a+b와 a*b 2개인데 결과값을 받아들이는 변수는 result 하나만 쓰였으니 오류가 발생하지 않을까?<br>\n",
    "- 당연한 의문이다. 하지만 오류는 발생하지 않는다. 그 이유는 함수의 결과값은 2개가 아니라 언제나 1개라는 데 있다.add_and_mul 함수의 결과값 a+b와 a*b는 튜플값 하나인 (a+b, a*b)로 돌려준다."
   ]
  },
  {
   "cell_type": "code",
   "execution_count": 75,
   "metadata": {},
   "outputs": [
    {
     "name": "stdout",
     "output_type": "stream",
     "text": [
      "7\n",
      "12\n"
     ]
    }
   ],
   "source": [
    "# 만약 이 하나의 튜플값을 2개의 결과값처럼 받고 싶다면 다음과 같이 함수를 호출하면 된다.\n",
    "result1, result2 = add_and_mul(3, 4)\n",
    "print(result1)\n",
    "print(result2)"
   ]
  },
  {
   "cell_type": "code",
   "execution_count": 77,
   "metadata": {},
   "outputs": [],
   "source": [
    "def add_and_mul(a,b):\n",
    "    return a+b\n",
    "    return a*b"
   ]
  },
  {
   "cell_type": "code",
   "execution_count": 78,
   "metadata": {},
   "outputs": [
    {
     "data": {
      "text/plain": [
       "5"
      ]
     },
     "execution_count": 78,
     "metadata": {},
     "output_type": "execute_result"
    }
   ],
   "source": [
    "add_and_mul(2,3)\n",
    "# add_and_mul(2, 3)의 결과값은 5 하나뿐이다. 두 번째 return문인 return a*b는 실행되지 않았다는 뜻이다.\n",
    "# 즉, 함수는 return문을 만나는 순간 결과값을 돌려준 다음 함수를 빠져나가게 된다."
   ]
  },
  {
   "cell_type": "markdown",
   "metadata": {},
   "source": [
    "### return의 또 다른 쓰임새\n",
    "- 어떤 특별한 상황이 되면 함수를 빠져나가고자 할 때는 return을 단독으로 써서 함수를 즉시 빠져나갈 수 있다."
   ]
  },
  {
   "cell_type": "code",
   "execution_count": 19,
   "metadata": {},
   "outputs": [],
   "source": [
    "def say_nick(nick) :\n",
    "    if nick == \"바보\" :\n",
    "        return\n",
    "    print(\"나의 별명은 %s입니다.\" % nick)\n",
    "# 이 함수 역시 리턴값은 없다(문자열을 출력한다는 것과 리턴값이 있다는 것은 전혀 다른 말이다.\n",
    "#혼동하지 말자. 함수의 리턴값은 오로지 return문에 의해서만 생성된다)."
   ]
  },
  {
   "cell_type": "code",
   "execution_count": 20,
   "metadata": {
    "scrolled": true
   },
   "outputs": [],
   "source": [
    "say_nick('바보')"
   ]
  },
  {
   "cell_type": "code",
   "execution_count": 21,
   "metadata": {},
   "outputs": [
    {
     "name": "stdout",
     "output_type": "stream",
     "text": [
      "나의 별명은 병신입니다.\n"
     ]
    }
   ],
   "source": [
    "say_nick('병신')"
   ]
  },
  {
   "cell_type": "markdown",
   "metadata": {},
   "source": [
    "- 이처럼 return으로 함수를 빠져나가는 방법은 실제 프로그래밍에서 자주 사용된다."
   ]
  },
  {
   "cell_type": "markdown",
   "metadata": {},
   "source": [
    "### 매개변수에 초깃값 미리 설정하기\n",
    "- 조금 다른 형태로 함수의 인수를 전달하는 방법<br>\n",
    "- 매개변수에 초깃값을 미리 설정해 주는 경우"
   ]
  },
  {
   "cell_type": "code",
   "execution_count": 23,
   "metadata": {},
   "outputs": [],
   "source": [
    "def say_myself(name, old, man = True) :\n",
    "    print(\"나의 이름은 %s 입니다.\" % name)\n",
    "    print(\"나이는 %d살입니다.\" % old)\n",
    "    if man :\n",
    "        print(\"남자입니다.\")\n",
    "    else :\n",
    "        print(\"여자입니다.\")\n",
    "# say_myself 함수는 3개의 입력 인수를 받아서 마지막 인수인 man이 True이면 \"남자입니다.\"\n",
    "# False이면 \"여자입니다.\"를 출력한다."
   ]
  },
  {
   "cell_type": "code",
   "execution_count": 24,
   "metadata": {
    "scrolled": true
   },
   "outputs": [
    {
     "name": "stdout",
     "output_type": "stream",
     "text": [
      "나의 이름은 권혁준 입니다.\n",
      "나이는 24살입니다.\n",
      "남자입니다.\n"
     ]
    }
   ],
   "source": [
    "say_myself(\"권혁준\", 24,)"
   ]
  },
  {
   "cell_type": "code",
   "execution_count": 27,
   "metadata": {
    "scrolled": false
   },
   "outputs": [
    {
     "name": "stdout",
     "output_type": "stream",
     "text": [
      "나의 이름은 권혁준 입니다.\n",
      "나이는 24살입니다.\n",
      "남자입니다.\n"
     ]
    }
   ],
   "source": [
    "say_myself(\"권혁준\", 24, True)"
   ]
  },
  {
   "cell_type": "code",
   "execution_count": 29,
   "metadata": {},
   "outputs": [
    {
     "name": "stdout",
     "output_type": "stream",
     "text": [
      "나의 이름은 권혁준 입니다.\n",
      "나이는 24살입니다.\n",
      "여자입니다.\n"
     ]
    }
   ],
   "source": [
    "say_myself(\"권혁준\", 24, False)"
   ]
  },
  {
   "cell_type": "code",
   "execution_count": 9,
   "metadata": {},
   "outputs": [
    {
     "ename": "SyntaxError",
     "evalue": "non-default argument follows default argument (<ipython-input-9-8dfc8a9fa365>, line 1)",
     "output_type": "error",
     "traceback": [
      "\u001b[1;36m  File \u001b[1;32m\"<ipython-input-9-8dfc8a9fa365>\"\u001b[1;36m, line \u001b[1;32m1\u001b[0m\n\u001b[1;33m    def say_myself(name, man = True, old) :\u001b[0m\n\u001b[1;37m                  ^\u001b[0m\n\u001b[1;31mSyntaxError\u001b[0m\u001b[1;31m:\u001b[0m non-default argument follows default argument\n"
     ]
    }
   ],
   "source": [
    "def say_myself(name, man = True, old) :\n",
    "    print(\"나의 이름은 %s 입니다.\" % name)\n",
    "    print(\"나이는 %d살입니다.\" % old)\n",
    "    if man :\n",
    "         print(\"남자입니다.\")\n",
    "    else :\n",
    "        print(\"여자입니다.\")\n",
    "\n",
    "# 오류 발생 : 이전 함수와 바뀐 부분은 초깃값을 설정한 매개변수의 위치"
   ]
  },
  {
   "cell_type": "code",
   "execution_count": 10,
   "metadata": {},
   "outputs": [
    {
     "name": "stdout",
     "output_type": "stream",
     "text": [
      "나의 이름은 권혁준 입니다.\n",
      "나이는 27살입니다.\n",
      "남자입니다.\n"
     ]
    }
   ],
   "source": [
    "say_myself(\"권혁준\", 27)\n",
    "# 파이썬 인터프리터는 27을 man 변수와 old 변수 중 어느 곳에 전달해야 할지 알 수 없다.\n",
    "# 초기화시키고 싶은 매개변수들을 항상 뒤쪽에 위치시켜야함"
   ]
  },
  {
   "cell_type": "markdown",
   "metadata": {},
   "source": [
    "### 함수 안에서 선언된 변수의 효력 범위"
   ]
  },
  {
   "cell_type": "code",
   "execution_count": 30,
   "metadata": {},
   "outputs": [],
   "source": [
    "a = 1\n",
    "def vartest(a) :\n",
    "    a = a + 1\n",
    "\n",
    "vartest(a)"
   ]
  },
  {
   "cell_type": "code",
   "execution_count": 31,
   "metadata": {},
   "outputs": [
    {
     "name": "stdout",
     "output_type": "stream",
     "text": [
      "1\n"
     ]
    }
   ],
   "source": [
    "print(a)\n",
    "# 함수 안에서 새로 만들어진 매개변수는 함수 안에서만 사용되는 \"함수만의 변수\"\n",
    "# 즉, def vartest(a)에서 입력 값을 전달받는 매개변수 a는 함수 안에서만 사용되는 변수이지\n",
    "# 함수 밖의 변수 a가 아니라는 뜻이다."
   ]
  },
  {
   "cell_type": "code",
   "execution_count": 2,
   "metadata": {},
   "outputs": [
    {
     "name": "stdout",
     "output_type": "stream",
     "text": [
      "None\n"
     ]
    }
   ],
   "source": [
    "#즉, 함수 안에서 사용되는 매개변수는 함수 밖의 변수 이름들과는 전혀 상관이 없다는 말이다.\n",
    "#다음의 예를 보면 더욱 분명하게 이해할 수 있을 것이다.\n",
    "\n",
    "def vartest(a):\n",
    "    a = a + 1\n",
    "\n",
    "vartest(3)\n",
    "print(vartest(3))"
   ]
  },
  {
   "cell_type": "markdown",
   "metadata": {},
   "source": [
    "### 함수 안에서 함수 밖의 변수를 변경하는 방법"
   ]
  },
  {
   "cell_type": "markdown",
   "metadata": {},
   "source": [
    "#### 1.return 이용하기"
   ]
  },
  {
   "cell_type": "code",
   "execution_count": 10,
   "metadata": {},
   "outputs": [
    {
     "name": "stdout",
     "output_type": "stream",
     "text": [
      "1\n"
     ]
    }
   ],
   "source": [
    "a = 1\n",
    "def vartest(a) : # vartest 함수는 입력으로 들어온 값에 1을 더한값을 돌려준다.\n",
    "    a = a + 1\n",
    "    return a\n",
    "\n",
    "print(a)"
   ]
  },
  {
   "cell_type": "code",
   "execution_count": 32,
   "metadata": {},
   "outputs": [
    {
     "name": "stdout",
     "output_type": "stream",
     "text": [
      "2\n"
     ]
    }
   ],
   "source": [
    "a = 1\n",
    "def vartest(a) : # vartest 함수는 입력으로 들어온 값에 1을 더한값을 돌려준다.\n",
    "    a = a + 1\n",
    "    return a\n",
    "\n",
    "a = vartest(a) # a = vartest(a)라고 대입하면 a가 vartest 함수의 결과값으로 바뀐다.\n",
    "print(a)"
   ]
  },
  {
   "cell_type": "code",
   "execution_count": 33,
   "metadata": {},
   "outputs": [
    {
     "data": {
      "text/plain": [
       "3"
      ]
     },
     "execution_count": 33,
     "metadata": {},
     "output_type": "execute_result"
    }
   ],
   "source": [
    "vartest(a)"
   ]
  },
  {
   "cell_type": "markdown",
   "metadata": {},
   "source": [
    "#### 2.global 명령어 이용하기"
   ]
  },
  {
   "cell_type": "code",
   "execution_count": 26,
   "metadata": {},
   "outputs": [
    {
     "name": "stdout",
     "output_type": "stream",
     "text": [
      "2\n"
     ]
    }
   ],
   "source": [
    "a = 1\n",
    "def vartest() :\n",
    "    global a \n",
    "    a = a + 1 \n",
    "\n",
    "vartest()\n",
    "print(a)\n",
    "# vartest 함수 안의 global a라는 문장은 함수 안에서 함수 밖의 a 변수를 직접 사용하겠다는 뜻이다.\n",
    "# 하지만 프로그래밍을 할 때 global 명령어는 사용하지 않는 것이 좋다.\n",
    "# 왜냐하면 함수는 독립적으로 존재하는 것이 좋기 때문이다.\n",
    "# 외부 변수에 종속적인 함수는 그다지 좋은 함수가 아니다."
   ]
  },
  {
   "cell_type": "markdown",
   "metadata": {},
   "source": [
    "### lambda\n",
    "- lambda는 함수를 생성할 때 사용하는 예약어로 def와 동일한 역할을 한다. <br>보통 함수를 한줄로 간결하게 만들 때 사용한다. <br>우리말로는 \"람다\"라고 읽고 def를 사용해야 할 정도로 복잡하지 않거나 def를 사용할 수 없는 곳에 주로 쓰인다.\n",
    "\n",
    "- 사용법은 다음과 같다.\n",
    "        lambda 매개변수1, 매개변수2, ... : 매개변수를 이용한 표현식"
   ]
  },
  {
   "cell_type": "code",
   "execution_count": 28,
   "metadata": {},
   "outputs": [
    {
     "name": "stdout",
     "output_type": "stream",
     "text": [
      "7\n"
     ]
    }
   ],
   "source": [
    "add = lambda a, b : a+b\n",
    "result = add(3,4)\n",
    "print(result)"
   ]
  },
  {
   "cell_type": "code",
   "execution_count": 29,
   "metadata": {},
   "outputs": [
    {
     "name": "stdout",
     "output_type": "stream",
     "text": [
      "7\n"
     ]
    }
   ],
   "source": [
    "# 위의 예제는 def를 사용한 아래 함수와 하는 일이 완전히 동일하다.\n",
    "def add(a,b) :\n",
    "    return a+b\n",
    "\n",
    "result = add(3,4)\n",
    "print(result)"
   ]
  },
  {
   "cell_type": "markdown",
   "metadata": {},
   "source": [
    "## 연습문제"
   ]
  },
  {
   "cell_type": "markdown",
   "metadata": {},
   "source": [
    "- [문제1] 홀수 짝수 판별<br>\n",
    "주어진 자연수가 홀수인지 짝수인지 판별해 주는 함수(is_odd)를 작성하시오."
   ]
  },
  {
   "cell_type": "code",
   "execution_count": 32,
   "metadata": {
    "scrolled": false
   },
   "outputs": [
    {
     "name": "stdout",
     "output_type": "stream",
     "text": [
      "숫자를 입력하세요. : 8\n",
      "짝수 입니다.\n"
     ]
    }
   ],
   "source": [
    "a = int(input(\"숫자를 입력하세요. : \"))\n",
    "\n",
    "def d(a) :\n",
    "    if a % 2 == 0 :\n",
    "        print(\"짝수 입니다.\")\n",
    "    else :\n",
    "        print(\"홀수 입니다.\")\n",
    "d(a)"
   ]
  },
  {
   "cell_type": "code",
   "execution_count": 34,
   "metadata": {},
   "outputs": [
    {
     "name": "stdout",
     "output_type": "stream",
     "text": [
      "짝수 입니다.\n"
     ]
    },
    {
     "data": {
      "text/plain": [
       "False"
      ]
     },
     "execution_count": 34,
     "metadata": {},
     "output_type": "execute_result"
    }
   ],
   "source": [
    "def is_odd(a) :\n",
    "    if a % 2 == 0 :\n",
    "        print(\"짝수 입니다.\")\n",
    "        return False\n",
    "    else :\n",
    "        print(\"홀수 입니다.\")\n",
    "        return True\n",
    "        \n",
    "is_odd(6)\n"
   ]
  },
  {
   "cell_type": "code",
   "execution_count": 31,
   "metadata": {},
   "outputs": [
    {
     "data": {
      "text/plain": [
       "True"
      ]
     },
     "execution_count": 31,
     "metadata": {},
     "output_type": "execute_result"
    }
   ],
   "source": [
    "# 답안\n",
    "def is_odd(number) :\n",
    "    if number % 2 == 1 : # 2로 나누었을 때 나머지가 1이면 홀수이다. \n",
    "        return True\n",
    "    else :\n",
    "        return False\n",
    "\n",
    "is_odd(3)"
   ]
  },
  {
   "cell_type": "code",
   "execution_count": 35,
   "metadata": {},
   "outputs": [
    {
     "data": {
      "text/plain": [
       "True"
      ]
     },
     "execution_count": 35,
     "metadata": {},
     "output_type": "execute_result"
    }
   ],
   "source": [
    "# 답안\n",
    "# 람다와 조건부 표현식을 이용하면 다음과 같이 간단하게도 만들 수 있다.\n",
    "\n",
    "is_odd = lambda x : True if x % 2 == 1 else False\n",
    "\n",
    "is_odd(17)"
   ]
  },
  {
   "cell_type": "markdown",
   "metadata": {},
   "source": [
    "- [문제2] 평균값 계산\n",
    "<br><br>\n",
    "입력으로 들어오는 모든 수의 평균값을 계산해 주는 함수를 작성해 보자. (단, 입력으로 들어오는 수의 갯수는 정해져 있지 않다.)"
   ]
  },
  {
   "cell_type": "code",
   "execution_count": 37,
   "metadata": {},
   "outputs": [],
   "source": [
    "def average(*args) :\n",
    "    result = 0\n",
    "    for k in args :\n",
    "        result = result + k\n",
    "    result_real = result/len(args)\n",
    "    return(result_real)"
   ]
  },
  {
   "cell_type": "code",
   "execution_count": 38,
   "metadata": {},
   "outputs": [
    {
     "data": {
      "text/plain": [
       "186.5"
      ]
     },
     "execution_count": 38,
     "metadata": {},
     "output_type": "execute_result"
    }
   ],
   "source": [
    "average(654,45,651,16,156,54,5,6,5,45,56,545,)"
   ]
  },
  {
   "cell_type": "code",
   "execution_count": 36,
   "metadata": {},
   "outputs": [
    {
     "data": {
      "text/plain": [
       "140.2"
      ]
     },
     "execution_count": 36,
     "metadata": {},
     "output_type": "execute_result"
    }
   ],
   "source": [
    "# 답안\n",
    "def avg_numbers(*args) :\n",
    "    result = 0\n",
    "    for i in args :\n",
    "        result += i\n",
    "    return result / len(args)\n",
    "\n",
    "avg_numbers(4,5,45,645,2)\n"
   ]
  }
 ],
 "metadata": {
  "kernelspec": {
   "display_name": "Python 3",
   "language": "python",
   "name": "python3"
  },
  "language_info": {
   "codemirror_mode": {
    "name": "ipython",
    "version": 3
   },
   "file_extension": ".py",
   "mimetype": "text/x-python",
   "name": "python",
   "nbconvert_exporter": "python",
   "pygments_lexer": "ipython3",
   "version": "3.6.8"
  }
 },
 "nbformat": 4,
 "nbformat_minor": 2
}
