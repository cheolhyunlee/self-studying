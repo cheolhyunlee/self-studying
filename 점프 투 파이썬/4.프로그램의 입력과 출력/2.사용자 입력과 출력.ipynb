{
 "cells": [
  {
   "cell_type": "markdown",
   "metadata": {},
   "source": [
    "## 사용자 입력과 출력\n",
    "- 우리들이 사용하는 대부분의 완성된 프로그램은 사용자의 입력에 따라 그에 맞는 출력을 내보낸다.<br>대표적인 예로 게시판에 글을 작성한 후 \"확인\" 버튼을 눌러야만(입력) 우리가 작성한 글이 게시판에 올라가는(출력) 것을 들 수 있다.\n",
    "\n",
    "        사용자 입력 → 처리(프로그램, 함수 등) → 출력"
   ]
  },
  {
   "cell_type": "markdown",
   "metadata": {},
   "source": [
    "### 사용자 입력"
   ]
  },
  {
   "cell_type": "markdown",
   "metadata": {},
   "source": [
    "#### input의 사용"
   ]
  },
  {
   "cell_type": "code",
   "execution_count": 9,
   "metadata": {},
   "outputs": [
    {
     "name": "stdout",
     "output_type": "stream",
     "text": [
      "Life is too short, you need python\n"
     ]
    }
   ],
   "source": [
    "a = input()\n",
    "# input은 입력되는 모든 것을 문자열로 취급한다."
   ]
  },
  {
   "cell_type": "markdown",
   "metadata": {},
   "source": [
    "#### 프롬프트를 띄워서 사용자 입력 받기\n",
    "- 사용자에게 입력을 받을 때 \"숫자를 입력하세요\"라든지 \"이름을 입력하세요\"라는 안내 문구 또는 질문이 나오도록 하고 싶을 때가 있다. <br>그럴 때는 input()의 괄호 안에 질문을 입력하여 프롬프트를 띄워주면 된다.\n",
    "\n",
    "        input(\"질문 내용\")"
   ]
  },
  {
   "cell_type": "code",
   "execution_count": 10,
   "metadata": {},
   "outputs": [
    {
     "name": "stdout",
     "output_type": "stream",
     "text": [
      "숫자를 입력하세요.: 5\n"
     ]
    }
   ],
   "source": [
    "number = input(\"숫자를 입력하세요.: \")"
   ]
  },
  {
   "cell_type": "markdown",
   "metadata": {},
   "source": [
    "### print 자세히 알기"
   ]
  },
  {
   "cell_type": "markdown",
   "metadata": {},
   "source": [
    "#### 큰따옴표(\")로 둘러싸인 문자열은 + 연산과 동일하다"
   ]
  },
  {
   "cell_type": "code",
   "execution_count": 12,
   "metadata": {},
   "outputs": [
    {
     "name": "stdout",
     "output_type": "stream",
     "text": [
      "lifeistoo short\n"
     ]
    }
   ],
   "source": [
    "print(\"life\" \"is\" \"too short\")"
   ]
  },
  {
   "cell_type": "code",
   "execution_count": 14,
   "metadata": {},
   "outputs": [
    {
     "name": "stdout",
     "output_type": "stream",
     "text": [
      "lifeistoo short\n"
     ]
    }
   ],
   "source": [
    "print(\"life\"+\"is\"+\"too short\")\n",
    "\n",
    "#즉, 따옴표로 둘러싸인 문자열을연속해서 쓰면 + 연산을 한 것과 같다."
   ]
  },
  {
   "cell_type": "markdown",
   "metadata": {},
   "source": [
    "#### 문자열 띄어쓰기는 콤마로 한다"
   ]
  },
  {
   "cell_type": "code",
   "execution_count": 15,
   "metadata": {},
   "outputs": [
    {
     "name": "stdout",
     "output_type": "stream",
     "text": [
      "life is too short\n"
     ]
    }
   ],
   "source": [
    "print(\"life\", \"is\", \"too short\")\n",
    "\n",
    "#콤마(,)를 이용하면 문자열 간에 띄어쓰기를 할 수 있다."
   ]
  },
  {
   "cell_type": "markdown",
   "metadata": {},
   "source": [
    "#### 한 줄에 결과값 출력하기\n",
    "- 한 줄에 결과값을 계속 이어서 출력하려면 입력 인수 end를 이용해 끝 문자를 지정해야 한다."
   ]
  },
  {
   "cell_type": "code",
   "execution_count": 2,
   "metadata": {},
   "outputs": [
    {
     "name": "stdout",
     "output_type": "stream",
     "text": [
      "0 1 2 3 4 5 6 7 8 9 "
     ]
    }
   ],
   "source": [
    "for i in range(10) :\n",
    "    print(i, end=\" \")"
   ]
  },
  {
   "cell_type": "markdown",
   "metadata": {},
   "source": [
    "## 연습문제"
   ]
  },
  {
   "cell_type": "markdown",
   "metadata": {},
   "source": [
    "- [문제1] 두 수의 합은?\n",
    "<br><br>\n",
    "    다음은 두 개의 숫자를 입력받아 더하여 리턴해 주는 프로그램이다.\n",
    "        input1 = input(\"첫번째 숫자를 입력하세요:\")\n",
    "        input2 = input(\"두번째 숫자를 입력하세요:\")\n",
    "\n",
    "        total = input1 + input2\n",
    "        print(\"두 수의 합은 %s 입니다\" % total)\n",
    "\n",
    "    이 프로그램을 수행 해 보자.\n",
    "\n",
    "        첫번째 숫자를 입력하세요:3\n",
    "        두번째 숫자를 입력하세요:6\n",
    "        두 수의 합은 36 입니다\n",
    "\n",
    "    3과 6을 입력했을 때 9가 아닌 36이라는 결과가 리턴되었다. 이 프로그램의 오류를 수정하시오."
   ]
  },
  {
   "cell_type": "code",
   "execution_count": 20,
   "metadata": {},
   "outputs": [
    {
     "name": "stdout",
     "output_type": "stream",
     "text": [
      "첫번째 숫자를 입력하세요:3\n",
      "두번째 숫자를 입력하세요:6\n",
      "두 수의 합은 9 입니다\n"
     ]
    }
   ],
   "source": [
    "input1 = input(\"첫번째 숫자를 입력하세요:\")\n",
    "input2 = input(\"두번째 숫자를 입력하세요:\")\n",
    "\n",
    "total = float(input1) + float(input2)\n",
    "print(\"두 수의 합은 %d 입니다\" % total)"
   ]
  },
  {
   "cell_type": "code",
   "execution_count": 47,
   "metadata": {},
   "outputs": [
    {
     "name": "stdout",
     "output_type": "stream",
     "text": [
      "첫번째 숫자를 입력하세요:3\n",
      "두번째 숫자를 입력하세요:6\n",
      "두 수의 합은 9 입니다\n"
     ]
    }
   ],
   "source": [
    "# 답안\n",
    "input1 = input(\"첫번째 숫자를 입력하세요:\")\n",
    "input2 = input(\"두번째 숫자를 입력하세요:\")\n",
    "\n",
    "total = int(input1) + int(input2)  # 입력은 항상 문자열이므로 숫자로 바꾸어 주어야 한다.\n",
    "print(\"두 수의 합은 %s 입니다\" % total)"
   ]
  },
  {
   "cell_type": "markdown",
   "metadata": {},
   "source": [
    "- [문제2] 숫자의 총합\n",
    "\n",
    "    사용자로부터 다음과 같은 숫자들의 입력을 받아 입력받은 숫자들의 총합을 구하는 프로그램을 작성하시오.<br>(단, 숫자들은 콤마로 구분하여 입력한다.)\n",
    "\n",
    "        65,45,2,3,45,8"
   ]
  },
  {
   "cell_type": "code",
   "execution_count": 31,
   "metadata": {},
   "outputs": [
    {
     "name": "stdout",
     "output_type": "stream",
     "text": [
      "숫자를 입력하시오.: 65\n",
      "숫자를 입력하시오.: 45\n",
      "숫자를 입력하시오.: 2\n",
      "숫자를 입력하시오.: 3\n",
      "숫자를 입력하시오.: 45\n",
      "숫자를 입력하시오.: 8\n",
      "168.0\n"
     ]
    }
   ],
   "source": [
    "a = float(input(\"숫자를 입력하시오.: \"))\n",
    "b = float(input(\"숫자를 입력하시오.: \"))\n",
    "c = float(input(\"숫자를 입력하시오.: \"))\n",
    "d = float(input(\"숫자를 입력하시오.: \"))\n",
    "e = float(input(\"숫자를 입력하시오.: \"))\n",
    "f = float(input(\"숫자를 입력하시오.: \"))\n",
    "\n",
    "print(a+b+c+d+e+f)"
   ]
  },
  {
   "cell_type": "code",
   "execution_count": 41,
   "metadata": {},
   "outputs": [
    {
     "name": "stdout",
     "output_type": "stream",
     "text": [
      "숫자를 입력하시오. : 65,45,2,3,45,8\n",
      "168.0\n"
     ]
    }
   ],
   "source": [
    "a = input(\"숫자를 입력하시오. : \")\n",
    "b = a.split(\",\")\n",
    "result = 0\n",
    "for i in b :\n",
    "    result += float(i)\n",
    "\n",
    "print(result)"
   ]
  },
  {
   "cell_type": "code",
   "execution_count": 48,
   "metadata": {},
   "outputs": [
    {
     "name": "stdout",
     "output_type": "stream",
     "text": [
      "숫자를 입력하세요:65,45,2,3,45,8\n",
      "168\n"
     ]
    }
   ],
   "source": [
    "# 답안\n",
    "user_input = input(\"숫자를 입력하세요:\")\n",
    "numbers = user_input.split(\",\")\n",
    "total = 0\n",
    "for n in numbers:\n",
    "    total += int(n)  # 입력은 문자열이므로 숫자로 변환해야 한다.\n",
    "print(total)"
   ]
  },
  {
   "cell_type": "markdown",
   "metadata": {},
   "source": [
    "- [문제3] 문자열 출력\n",
    "\n",
    "    다음 중 출력결과가 다른 것 한개를 고르시오.\n",
    "\n",
    "        print(\"you\" \"need\" \"python\")\n",
    "        print(\"you\"+\"need\"+\"python\")\n",
    "        print(\"you\", \"need\", \"python\")\n",
    "        print(\"\".join([\"you\", \"need\", \"python\"]))\n"
   ]
  },
  {
   "cell_type": "code",
   "execution_count": 42,
   "metadata": {
    "scrolled": true
   },
   "outputs": [
    {
     "name": "stdout",
     "output_type": "stream",
     "text": [
      "youneedpython\n",
      "youneedpython\n",
      "you need python\n",
      "youneedpython\n"
     ]
    }
   ],
   "source": [
    "  print(\"you\" \"need\" \"python\")\n",
    "  print(\"you\"+\"need\"+\"python\")\n",
    "  print(\"you\", \"need\", \"python\")\n",
    "  print(\"\".join([\"you\", \"need\", \"python\"]))"
   ]
  },
  {
   "cell_type": "code",
   "execution_count": 50,
   "metadata": {
    "scrolled": true
   },
   "outputs": [
    {
     "name": "stdout",
     "output_type": "stream",
     "text": [
      "youneedpython\n",
      "youneedpython\n",
      "you need python\n",
      "youneedpython\n"
     ]
    }
   ],
   "source": [
    "# 답안\n",
    "print(\"you\" \"need\" \"python\")\n",
    "#youneedpython\n",
    "print(\"you\"+\"need\"+\"python\")\n",
    "#youneedpython\n",
    "print(\"you\", \"need\", \"python\")  # 콤마가 있는 경우 공백이 삽입되어 더해진다.\n",
    "#you need python\n",
    "print(\"\".join([\"you\", \"need\", \"python\"]))\n",
    "#youneedpython"
   ]
  },
  {
   "cell_type": "markdown",
   "metadata": {},
   "source": [
    "- [문제4] 한줄 구구단\n",
    "\n",
    "    사용자로부터 2~9 까지의 숫자중 하나를 입력받아 해당 숫자의 구구단을 한줄로 출력하는 프로그램을 작성하시오.\n",
    "\n",
    "- 실행 예\n",
    "\n",
    "        구구단을 출력할 숫자를 입력하세요(2~9): 2\n",
    "        2 4 6 8 10 12 14 16 18"
   ]
  },
  {
   "cell_type": "code",
   "execution_count": 45,
   "metadata": {},
   "outputs": [
    {
     "name": "stdout",
     "output_type": "stream",
     "text": [
      "구구단을 출력할 숫자를 입력하세요(2~9): 8\n",
      "8 16 24 32 40 48 56 64 72 "
     ]
    }
   ],
   "source": [
    "a = input(\"구구단을 출력할 숫자를 입력하세요(2~9): \")\n",
    "\n",
    "for i in range(1,10) :\n",
    "    print(int(a) * i, end=\" \")"
   ]
  },
  {
   "cell_type": "code",
   "execution_count": 51,
   "metadata": {},
   "outputs": [
    {
     "name": "stdout",
     "output_type": "stream",
     "text": [
      "구구단을 출력할 숫자를 입력하세요(2~9):4\n",
      "4 8 12 16 20 24 28 32 36 "
     ]
    }
   ],
   "source": [
    "# 답안\n",
    "user_input = input(\"구구단을 출력할 숫자를 입력하세요(2~9):\")\n",
    "dan = int(user_input)  # 입력 문자열을 숫자로 변환\n",
    "for i in range(1, 10):\n",
    "    print(i*dan, end= ' ')  # 한줄로 출력하기 위해 줄바꿈 문자 대신 공백문자를 마지막에 출력한다"
   ]
  }
 ],
 "metadata": {
  "kernelspec": {
   "display_name": "Python 3",
   "language": "python",
   "name": "python3"
  },
  "language_info": {
   "codemirror_mode": {
    "name": "ipython",
    "version": 3
   },
   "file_extension": ".py",
   "mimetype": "text/x-python",
   "name": "python",
   "nbconvert_exporter": "python",
   "pygments_lexer": "ipython3",
   "version": "3.6.8"
  }
 },
 "nbformat": 4,
 "nbformat_minor": 2
}
