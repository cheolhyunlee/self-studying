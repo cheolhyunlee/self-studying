{
 "cells": [
  {
   "cell_type": "code",
   "execution_count": 3,
   "metadata": {},
   "outputs": [],
   "source": [
    "# 파일을 만들고 1~100까지 저장하고 닫은 후에\n",
    "# 그 파일을 다시 열어서 다른 파일에 복사하는 예제\n",
    "\n",
    "# 파일 생성 (기존 파일 무시함)\n",
    "\n",
    "with open(\"test1.txt\", \"w\") as f1:   \n",
    "    for i in range(100):   # 파일 100줄에 1~100까지 저장  \n",
    "        f1.write(\"%d\\n\" %(i+1))\n",
    "\n",
    "\n",
    "# 읽기 파일 오픈\n",
    "\n",
    "with open(\"test1.txt\") as f1:           \n",
    "\n",
    "    # 파일 생성 (기존 파일 무시함)  \n",
    "    with open(\"test2.txt\", \"w\") as f2:              \n",
    "        for i_line in f1.readlines():  # 파일을 줄 단위로 복사          \n",
    "            f2.write(\"%s\" %i_line)"
   ]
  },
  {
   "cell_type": "markdown",
   "metadata": {},
   "source": [
    "this is my important thing\n",
    "heritage that my father gave me\n",
    "가 입력된 파일을 만들고\n",
    "heritage is precious diamond를 추가해서 파일 다시쓰기"
   ]
  },
  {
   "cell_type": "code",
   "execution_count": 10,
   "metadata": {},
   "outputs": [],
   "source": [
    "f1 = open(\"heritage.txt\",'w')\n",
    "k = \"\"\"this is my important thing\n",
    "heritage that my father gave me\"\"\"\n",
    "f1.write(k)\n",
    "f1.close()"
   ]
  },
  {
   "cell_type": "code",
   "execution_count": 11,
   "metadata": {},
   "outputs": [],
   "source": [
    "f2 = open(\"heritage.txt\",'r')\n",
    "j = f2.readlines()\n",
    "f2.close()\n",
    "\n",
    "j.insert(2,\"\\nheritage is precious diamond\\n\")\n",
    "f3 = open(\"heritage.txt\",'w')\n",
    "for g in j :\n",
    "    f3.write(g)\n",
    "f3.close()"
   ]
  }
 ],
 "metadata": {
  "kernelspec": {
   "display_name": "Python 3",
   "language": "python",
   "name": "python3"
  },
  "language_info": {
   "codemirror_mode": {
    "name": "ipython",
    "version": 3
   },
   "file_extension": ".py",
   "mimetype": "text/x-python",
   "name": "python",
   "nbconvert_exporter": "python",
   "pygments_lexer": "ipython3",
   "version": "3.6.8"
  }
 },
 "nbformat": 4,
 "nbformat_minor": 2
}
