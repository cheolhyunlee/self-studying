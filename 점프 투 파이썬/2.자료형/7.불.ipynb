{
 "cells": [
  {
   "cell_type": "markdown",
   "metadata": {},
   "source": [
    "## 불\n",
    "- 불(bool) 자료형이란 참(True)과 거짓(False)을 나타내는 자료형\n",
    "- True 또는 False 첫 문자를 항상 대문자로 사용해야 한다."
   ]
  },
  {
   "cell_type": "code",
   "execution_count": 1,
   "metadata": {},
   "outputs": [
    {
     "name": "stdout",
     "output_type": "stream",
     "text": [
      "True\n",
      "True\n",
      "False\n"
     ]
    }
   ],
   "source": [
    "print(1 == 1)\n",
    "print(2>1)\n",
    "print(2<1)"
   ]
  },
  {
   "cell_type": "markdown",
   "metadata": {},
   "source": [
    "### 자료형의 참과 거짓\n",
    "    값\t       참 or 거짓  \n",
    "    \"python\"\t 참  \n",
    "    \"\"\t       거짓  \n",
    "    [1, 2, 3]\t참  \n",
    "    []\t       거짓  \n",
    "    ()\t       거짓  \n",
    "    {}\t       거짓  \n",
    "    1\t        참  \n",
    "    0\t        거짓  \n",
    "    None\t     거짓  \n",
    "- 문자열, 리스트, 튜플, 딕셔너리 등의 값이 비어 있으면(\" \", [ ], ( ), { }) 거짓이 된다.  \n",
    "당연히 비어있지 않으면 참이 된다."
   ]
  },
  {
   "cell_type": "code",
   "execution_count": 3,
   "metadata": {},
   "outputs": [
    {
     "name": "stdout",
     "output_type": "stream",
     "text": [
      "4\n",
      "3\n",
      "2\n",
      "1\n"
     ]
    }
   ],
   "source": [
    "a = [1, 2, 3, 4]\n",
    "while a :               # while 조건문:\n",
    "        print(a.pop())  #       수행할 문장\n",
    "#a .pop()이라는 함수는 리스트 a의 마지막 요소를 끄집어내는 함수\n",
    "#a가 빈 리스트([ ])가 되어 거짓이 된다.\n",
    "#따라서 while문에서 조건이 거짓이 되므로 중지된다."
   ]
  },
  {
   "cell_type": "code",
   "execution_count": 4,
   "metadata": {},
   "outputs": [
    {
     "name": "stdout",
     "output_type": "stream",
     "text": [
      "거짓\n",
      "참\n"
     ]
    }
   ],
   "source": [
    "if []:\n",
    "    print(\"참\")\n",
    "else:\n",
    "    print(\"거짓\")\n",
    "\n",
    "# 만약 [1, 2, 3]이 참이면 \"참\"이라는 문자열을 출력하고 그렇지 않으면 \"거짓\"이라는 문자열을 출력하라.\n",
    "\n",
    "if [1, 2, 3]:\n",
    "    print(\"참\")\n",
    "else:\n",
    "    print(\"거짓\")"
   ]
  },
  {
   "cell_type": "code",
   "execution_count": 5,
   "metadata": {},
   "outputs": [
    {
     "name": "stdout",
     "output_type": "stream",
     "text": [
      "True\n",
      "False\n",
      "False\n",
      "False\n",
      "True\n"
     ]
    }
   ],
   "source": [
    "# 불 연산\n",
    "a = bool(\"python\")\n",
    "print(a)\n",
    "\n",
    "b = bool('')\n",
    "print(b)\n",
    "\n",
    "x = bool(())\n",
    "print(x)\n",
    "\n",
    "c = bool(0)\n",
    "print(c)\n",
    "\n",
    "d = bool(6)\n",
    "print(d)"
   ]
  }
 ],
 "metadata": {
  "kernelspec": {
   "display_name": "Python 3",
   "language": "python",
   "name": "python3"
  },
  "language_info": {
   "codemirror_mode": {
    "name": "ipython",
    "version": 3
   },
   "file_extension": ".py",
   "mimetype": "text/x-python",
   "name": "python",
   "nbconvert_exporter": "python",
   "pygments_lexer": "ipython3",
   "version": "3.6.8"
  }
 },
 "nbformat": 4,
 "nbformat_minor": 2
}
