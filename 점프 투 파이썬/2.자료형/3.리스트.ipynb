{
 "cells": [
  {
   "cell_type": "markdown",
   "metadata": {},
   "source": [
    "## List\n",
    "- 리스트명 = [요소1, 요소2, 요소3, ...]"
   ]
  },
  {
   "cell_type": "code",
   "execution_count": 4,
   "metadata": {},
   "outputs": [
    {
     "name": "stdout",
     "output_type": "stream",
     "text": [
      "[1, 3, 5, 7, 9]\n",
      "[1, 2, 3]\n",
      "[]\n",
      "[]\n"
     ]
    }
   ],
   "source": [
    "홀수 = [1,3,5,7,9]\n",
    "print(홀수)\n",
    "\n",
    "a = [] # 비어 있는 리스트는 a = list()로 생성할 수도 있다.\n",
    "b = [1, 2, 3]\n",
    "c = ['Life', 'is', 'too', 'short']\n",
    "d = [1, 2, 'Life', 'is']\n",
    "e = [1, 2, ['Life', 'is']]\n",
    "f = list()\n",
    "print(b)\n",
    "print(a)\n",
    "print(f)"
   ]
  },
  {
   "cell_type": "markdown",
   "metadata": {},
   "source": [
    "### 리스트의 인덱싱과 슬라이싱"
   ]
  },
  {
   "cell_type": "code",
   "execution_count": 15,
   "metadata": {},
   "outputs": [
    {
     "name": "stdout",
     "output_type": "stream",
     "text": [
      "2\n",
      "5\n",
      "3\n",
      "[1, 2, 3]\n",
      "3\n",
      "4\n",
      "루테인\n"
     ]
    }
   ],
   "source": [
    "#인덱싱\n",
    "a = [1,2,3]\n",
    "print(a[1])\n",
    "print(a[1]+a[2])\n",
    "print(a[-1])\n",
    "\n",
    "a = [3,5,7,[1,2,3]]\n",
    "print(a[3])\n",
    "print(a[-1][2])\n",
    "\n",
    "a = [4,8,9,[4,4,5,[4,'루테인'],5,]]\n",
    "print(a[3][3][0])\n",
    "print(a[3][3][1])"
   ]
  },
  {
   "cell_type": "code",
   "execution_count": 14,
   "metadata": {},
   "outputs": [
    {
     "name": "stdout",
     "output_type": "stream",
     "text": [
      "[1, 2]\n",
      "[3, 4, 5]\n",
      "[3, ['a', 'b', 'c'], 4]\n",
      "['a', 'b']\n"
     ]
    }
   ],
   "source": [
    "#슬라이싱\n",
    "a = [1,2,3,4,5]\n",
    "print(a[:2])\n",
    "print(a[2:])\n",
    "\n",
    "\n",
    "a = [1, 2, 3, ['a', 'b', 'c'], 4, 5]\n",
    "\n",
    "print(a[2:5])\n",
    "#[3, ['a', 'b', 'c'], 4]\n",
    "\n",
    "print(a[3][:2])\n",
    "#['a', 'b']\n"
   ]
  },
  {
   "cell_type": "markdown",
   "metadata": {},
   "source": [
    "### 리스트 연산"
   ]
  },
  {
   "cell_type": "code",
   "execution_count": 6,
   "metadata": {},
   "outputs": [
    {
     "name": "stdout",
     "output_type": "stream",
     "text": [
      "[1, 2, 3, 4, 5, 6]\n",
      "[1, 2, 3, 1, 2, 3, 1, 2, 3]\n",
      "3\n",
      "2hi\n"
     ]
    }
   ],
   "source": [
    "#더하기\n",
    "a = [1,2,3]\n",
    "b = [4,5,6]\n",
    "\n",
    "print(a+b)\n",
    "\n",
    "#반복하기\n",
    "print(a*3)\n",
    "\n",
    "#길이 구하기\n",
    "print(len(a))\n",
    "\n",
    "#번외\n",
    "print(str(a[1]) + 'hi')"
   ]
  },
  {
   "cell_type": "markdown",
   "metadata": {},
   "source": [
    "### 리스트의 수정과 삭제"
   ]
  },
  {
   "cell_type": "code",
   "execution_count": 7,
   "metadata": {
    "scrolled": true
   },
   "outputs": [
    {
     "name": "stdout",
     "output_type": "stream",
     "text": [
      "[1, 8, 3, 4]\n",
      "[1, 8, 3]\n",
      "[]\n"
     ]
    }
   ],
   "source": [
    "#수정\n",
    "a=[1,2,3,4]\n",
    "a[1] = 8\n",
    "print(a)\n",
    "\n",
    "#삭제\n",
    "del a[3]\n",
    "print(a)\n",
    "\n",
    "del a[:]\n",
    "print(a)"
   ]
  },
  {
   "cell_type": "markdown",
   "metadata": {},
   "source": [
    "### 리스트 관련 함수들"
   ]
  },
  {
   "cell_type": "code",
   "execution_count": 8,
   "metadata": {},
   "outputs": [
    {
     "name": "stdout",
     "output_type": "stream",
     "text": [
      "[1, 2, 3, 9]\n",
      "[1, 2, 3, 9, [4, 5]]\n"
     ]
    }
   ],
   "source": [
    "#요소 추가  append(x)는 리스트의 맨 마지막에 x를 추가시키는 함수\n",
    "a = [1,2,3]\n",
    "a.append(9)\n",
    "print(a)\n",
    "\n",
    "a.append([4,5])\n",
    "print(a)"
   ]
  },
  {
   "cell_type": "code",
   "execution_count": 9,
   "metadata": {},
   "outputs": [
    {
     "name": "stdout",
     "output_type": "stream",
     "text": [
      "[1, 2, 3, 4, 7]\n",
      "['a', 'd', 'd', 'g', 'q', 'v']\n"
     ]
    }
   ],
   "source": [
    "#정렬 sort()\n",
    "a = [4,7,1,2,3]\n",
    "a.sort()\n",
    "print(a)\n",
    "\n",
    "a = ['a','d','g','q','d','v']\n",
    "a.sort()\n",
    "print(a)"
   ]
  },
  {
   "cell_type": "code",
   "execution_count": 10,
   "metadata": {},
   "outputs": [
    {
     "name": "stdout",
     "output_type": "stream",
     "text": [
      "['u', 'k', 'a']\n",
      "1\n"
     ]
    }
   ],
   "source": [
    "#뒤집기 reverse() 역순으로 뒤집어줌, 현재의 리스트를 그대로 거꾸로\n",
    "a = ['a','k','u']\n",
    "a.reverse()\n",
    "print(a)\n",
    "\n",
    "#위치 반환 index\n",
    "a = [1,2,3]\n",
    "print(a.index(2))"
   ]
  },
  {
   "cell_type": "code",
   "execution_count": 4,
   "metadata": {},
   "outputs": [
    {
     "name": "stdout",
     "output_type": "stream",
     "text": [
      "[6, 5, 4, 7]\n"
     ]
    }
   ],
   "source": [
    "a = [7,4,5,6]\n",
    "a.reverse()\n",
    "print(a)"
   ]
  },
  {
   "cell_type": "code",
   "execution_count": 11,
   "metadata": {},
   "outputs": [
    {
     "name": "stdout",
     "output_type": "stream",
     "text": [
      "[1, 2, 1, 3]\n",
      "[1, 3, 4, 5, 1, 2, 3]\n",
      "[1, 3, 4, 5, 1, 3]\n"
     ]
    }
   ],
   "source": [
    "#삽입 insert(a,b) 리스트의 a번째 위치에 b를 삽입하는 함수\n",
    "a = [1,2,3]\n",
    "a.insert(2,1)\n",
    "print(a)\n",
    "\n",
    "#요소 제거 remove(x)는 리스트에서 첫 번째로 나오는 x를 삭제하는 함수\n",
    "a = [1,2,3,4,5,1,2,3]\n",
    "a.remove(2)\n",
    "print(a)\n",
    "a.remove(2)\n",
    "print(a)"
   ]
  },
  {
   "cell_type": "code",
   "execution_count": 12,
   "metadata": {},
   "outputs": [
    {
     "name": "stdout",
     "output_type": "stream",
     "text": [
      "3\n",
      "[1, 2]\n",
      "2\n"
     ]
    }
   ],
   "source": [
    "#요소 끄집어내기 pop()은 리스트의 맨 마지막 요소를 돌려 주고 그 요소는 삭제\n",
    "a = [1,2,3]\n",
    "print(a.pop())\n",
    "print(a)\n",
    "\n",
    "#요소 x의 개수 세기 count(X)\n",
    "a = [1,2,3,1,2,3,1,2]\n",
    "print(a.count(3))"
   ]
  },
  {
   "cell_type": "code",
   "execution_count": 13,
   "metadata": {},
   "outputs": [
    {
     "name": "stdout",
     "output_type": "stream",
     "text": [
      "[1, 2, 3, 4, 5, 6, 7, 8]\n",
      "[1, 2, 3, 4, 5, 6, 7, 8, 9, 10]\n"
     ]
    }
   ],
   "source": [
    "#확장 extend(x)에서 x에는 리스트만 올 수 있으며 원래의 a 리스트에 x 리스트를 더함\n",
    "a = [1,2,3,4]\n",
    "a.extend([5,6,7,8])\n",
    "print(a)\n",
    "\n",
    "a+=[9,10]\n",
    "print(a)"
   ]
  },
  {
   "cell_type": "code",
   "execution_count": 127,
   "metadata": {},
   "outputs": [
    {
     "data": {
      "text/plain": [
       "'Life is too short'"
      ]
     },
     "execution_count": 127,
     "metadata": {},
     "output_type": "execute_result"
    }
   ],
   "source": [
    "# join 쓰는거 가능\n",
    "a = ['Life', 'is', 'too', 'short']\n",
    "\" \".join(a)"
   ]
  }
 ],
 "metadata": {
  "kernelspec": {
   "display_name": "Python 3",
   "language": "python",
   "name": "python3"
  },
  "language_info": {
   "codemirror_mode": {
    "name": "ipython",
    "version": 3
   },
   "file_extension": ".py",
   "mimetype": "text/x-python",
   "name": "python",
   "nbconvert_exporter": "python",
   "pygments_lexer": "ipython3",
   "version": "3.6.8"
  }
 },
 "nbformat": 4,
 "nbformat_minor": 2
}
