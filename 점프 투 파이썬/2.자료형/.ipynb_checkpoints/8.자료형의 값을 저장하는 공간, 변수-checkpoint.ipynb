{
 "cells": [
  {
   "cell_type": "markdown",
   "metadata": {},
   "source": [
    "## 변수\n",
    "- 변수란? 변수를 만들 때는 =(assignment) 기호를 사용한다.\n",
    "- 변수명 = 변수에 저장할 값\n",
    "- 파이썬에서 사용하는 변수는 객체\n",
    "- 객체란 우리가 지금껏 보아 왔던 자료형과 같은 것\n",
    "- C 언어나 Java처럼 변수의 자료형을 함께 쓸 필요는 없다.  \n",
    "파이썬은 변수에 저장된 값을 스스로 판단하여 자료형을 알아낸다."
   ]
  },
  {
   "cell_type": "code",
   "execution_count": 1,
   "metadata": {},
   "outputs": [],
   "source": [
    "a = 1\n",
    "b = \"python\"\n",
    "c = [1,2,3]"
   ]
  },
  {
   "cell_type": "code",
   "execution_count": 2,
   "metadata": {},
   "outputs": [
    {
     "name": "stdout",
     "output_type": "stream",
     "text": [
      "2373934006792\n"
     ]
    }
   ],
   "source": [
    "a = [1,2,3]\n",
    "print(id(a))\n",
    "# a변수가 가리키는 메모리의 주소\n",
    "# id 함수는 변수가 가리키고 있는 객체의 주소를 리턴해 주는 파이썬 내장함수"
   ]
  },
  {
   "cell_type": "markdown",
   "metadata": {},
   "source": [
    "### 리스트를 복사하고자 할 때"
   ]
  },
  {
   "cell_type": "code",
   "execution_count": 5,
   "metadata": {
    "scrolled": true
   },
   "outputs": [
    {
     "name": "stdout",
     "output_type": "stream",
     "text": [
      "2373934007176\n",
      "2373934007176\n",
      "True\n",
      "[1, 4, 3]\n",
      "[1, 4, 3]\n"
     ]
    }
   ],
   "source": [
    "a = [1,2,3]\n",
    "b = a\n",
    "# b는 a와 완전히 동일\n",
    "# 리스트를 참조하는 변수의 갯수가 a 변수 1개에서 b 변수가 추가되어 2개가 되었다\n",
    "print(id(a))\n",
    "print(id(b))\n",
    "# 같다.\n",
    "\n",
    "print(a is b) # a와 b가 가리키는 객체는 동일한가?\n",
    "# True가 나온다.\n",
    "\n",
    "a[1] = 4\n",
    "print(a)\n",
    "print(b)"
   ]
  },
  {
   "cell_type": "markdown",
   "metadata": {},
   "source": [
    "### 다른 방법\n",
    "- b 변수를 생성할 때 a와 같은 값을 가지도록 복사해 넣으면서 a가 가리키는 리스트와는 다른 리스트를 가리키게 하는 방법"
   ]
  },
  {
   "cell_type": "code",
   "execution_count": 6,
   "metadata": {
    "scrolled": true
   },
   "outputs": [
    {
     "name": "stdout",
     "output_type": "stream",
     "text": [
      "[1, 5, 3]\n",
      "[1, 2, 3]\n"
     ]
    }
   ],
   "source": [
    "# [:]을 이용해서 복사\n",
    "a = [1,2,3]\n",
    "b = a[:]\n",
    "a[1] = 5\n",
    "print(a)\n",
    "print(b)"
   ]
  },
  {
   "cell_type": "code",
   "execution_count": 8,
   "metadata": {},
   "outputs": [
    {
     "name": "stdout",
     "output_type": "stream",
     "text": [
      "True\n"
     ]
    }
   ],
   "source": [
    "# copy 모듈 이용 / b = copy(a)는 b = a[:]과 동일\n",
    "from copy import copy\n",
    "b = copy(a)\n",
    "print(b is a)\n",
    "# False가 나온다."
   ]
  },
  {
   "cell_type": "markdown",
   "metadata": {},
   "source": [
    "### 변수를 만드는 여러 가지 방법"
   ]
  },
  {
   "cell_type": "code",
   "execution_count": 15,
   "metadata": {},
   "outputs": [
    {
     "name": "stdout",
     "output_type": "stream",
     "text": [
      "python\n",
      "life\n",
      "5\n",
      "3\n"
     ]
    }
   ],
   "source": [
    "a, b = ('python', 'life')\n",
    "(a, b) = 'python', 'life' # 위와 동일함 튜플은 괄호생략가능\n",
    "\n",
    "[a,b] = ['python', 'life'] # 리스트로 변수 만들기\n",
    "print(a)\n",
    "print(b)\n",
    "\n",
    "a = b = 'python'\n",
    "\n",
    "a = 3\n",
    "b = 5\n",
    "a, b = b, a\n",
    "print(a)\n",
    "print(b)"
   ]
  }
 ],
 "metadata": {
  "kernelspec": {
   "display_name": "Python 3",
   "language": "python",
   "name": "python3"
  },
  "language_info": {
   "codemirror_mode": {
    "name": "ipython",
    "version": 3
   },
   "file_extension": ".py",
   "mimetype": "text/x-python",
   "name": "python",
   "nbconvert_exporter": "python",
   "pygments_lexer": "ipython3",
   "version": "3.6.8"
  }
 },
 "nbformat": 4,
 "nbformat_minor": 2
}
