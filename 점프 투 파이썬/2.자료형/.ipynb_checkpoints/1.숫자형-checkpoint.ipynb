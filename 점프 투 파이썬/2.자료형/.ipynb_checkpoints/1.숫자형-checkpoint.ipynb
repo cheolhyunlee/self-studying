{
 "cells": [
  {
   "cell_type": "markdown",
   "metadata": {},
   "source": [
    "## 숫자형\n",
    "    항목\t사용 예  \n",
    "    정수\t123, -345, 0  \n",
    "    실수\t123.45, -1234.5, 3.4e10  "
   ]
  },
  {
   "cell_type": "code",
   "execution_count": 4,
   "metadata": {},
   "outputs": [
    {
     "name": "stdout",
     "output_type": "stream",
     "text": [
      "4.24e-10\n"
     ]
    }
   ],
   "source": [
    "a = 4.24E10 #e와 E 둘 중 어느 것을 사용해도 무방하다.\n",
    "a = 4.24e-10 #여기서 4.24E10은 4.24∗10^10, 4.24e-10은 4.24∗10^−10을 의미한다.\n",
    "print(a)"
   ]
  },
  {
   "cell_type": "code",
   "execution_count": 5,
   "metadata": {},
   "outputs": [
    {
     "name": "stdout",
     "output_type": "stream",
     "text": [
      "12\n",
      "81\n",
      "0.48658439999999814\n",
      "1\n",
      "1\n",
      "27.0\n",
      "6\n"
     ]
    }
   ],
   "source": [
    "a=3 ; b=4 ; c=81.4865844 ; d=25\n",
    "print(a*b) \n",
    "print(a**b) #제곱\n",
    "print(c%a) #나눗셈 하고 나머지\n",
    "print(d%a)\n",
    "print(d%b)\n",
    "print(c//3) #나눗셈 하고 몫\n",
    "print(d//b)"
   ]
  },
  {
   "cell_type": "code",
   "execution_count": null,
   "metadata": {},
   "outputs": [],
   "source": [
    "a=80\n",
    "b=75\n",
    "c=55\n",
    "\n",
    "(a+b+c)/3\n",
    "print((a+b+c)/3)"
   ]
  },
  {
   "cell_type": "code",
   "execution_count": null,
   "metadata": {},
   "outputs": [],
   "source": []
  }
 ],
 "metadata": {
  "kernelspec": {
   "display_name": "Python 3",
   "language": "python",
   "name": "python3"
  },
  "language_info": {
   "codemirror_mode": {
    "name": "ipython",
    "version": 3
   },
   "file_extension": ".py",
   "mimetype": "text/x-python",
   "name": "python",
   "nbconvert_exporter": "python",
   "pygments_lexer": "ipython3",
   "version": "3.6.8"
  }
 },
 "nbformat": 4,
 "nbformat_minor": 2
}
