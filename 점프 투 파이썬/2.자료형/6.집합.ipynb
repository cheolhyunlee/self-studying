{
 "cells": [
  {
   "cell_type": "markdown",
   "metadata": {},
   "source": [
    "## 집합\n",
    "- 집합 자료형은 set 키워드로 만들수 있다."
   ]
  },
  {
   "cell_type": "code",
   "execution_count": 15,
   "metadata": {},
   "outputs": [
    {
     "name": "stdout",
     "output_type": "stream",
     "text": [
      "{8, 5, 23}\n",
      "{'y', 'r', 'i', 'o', 'a', 'c', 't', 'd', 'n'}\n",
      "{8, 1, 3, 5}\n"
     ]
    }
   ],
   "source": [
    "a = set([8,5,23])\n",
    "print(a)\n",
    "\n",
    "b = set(\"dictionary\")\n",
    "print(b)\n",
    "\n",
    "c = set((1,3,5,8,1))\n",
    "print(c)"
   ]
  },
  {
   "cell_type": "markdown",
   "metadata": {},
   "source": [
    "- 집합 자료형은  \n",
    "1) 중복을 허용하지 않는다.  \n",
    "2) 순서가 없다.(Unordered)  \n",
    "3) 리스트나 튜플과 달리 딕셔너리와 비슷  \n",
    "4) 인덱싱으로 접근하려면 리스트나 튜플로 바꿔야함  \n",
    "***\n",
    "- 중복을 허용하지 않는 set의 특징은 자료형의 중복을 제거하기 위한 필터 역할로 종종 사용되기도 한다."
   ]
  },
  {
   "cell_type": "markdown",
   "metadata": {},
   "source": [
    "### 교집합, 합집합 ,차집합 구하기"
   ]
  },
  {
   "cell_type": "code",
   "execution_count": 16,
   "metadata": {},
   "outputs": [
    {
     "name": "stdout",
     "output_type": "stream",
     "text": [
      "{8, 5, 6, 7}\n",
      "{8, 5, 6, 7}\n",
      "{8, 5, 6, 7}\n"
     ]
    }
   ],
   "source": [
    "# 교집합\n",
    "k1 = set([2,3,4,5,6,7,8])\n",
    "k2 = set([5,6,7,8,9,10])\n",
    "\n",
    "print (k1&k2)       # 교집합 기호 &\n",
    "\n",
    "print(k1.intersection(k2))      # intersection 함수도 교집합 구해줌\n",
    "print(k2.intersection(k1))"
   ]
  },
  {
   "cell_type": "code",
   "execution_count": 17,
   "metadata": {},
   "outputs": [
    {
     "name": "stdout",
     "output_type": "stream",
     "text": [
      "{2, 3, 4, 5, 6, 7, 8, 9, 10}\n",
      "{2, 3, 4, 5, 6, 7, 8, 9, 10}\n"
     ]
    }
   ],
   "source": [
    "# 합집합\n",
    "print(k1|k2)       # | 기호로 합집합 만듦\n",
    "\n",
    "print(k1.union(k2))     # union 함수도 합집합 구해줌"
   ]
  },
  {
   "cell_type": "code",
   "execution_count": 18,
   "metadata": {},
   "outputs": [
    {
     "name": "stdout",
     "output_type": "stream",
     "text": [
      "{2, 3, 4}\n",
      "{9, 10}\n",
      "{2, 3, 4}\n",
      "{9, 10}\n"
     ]
    }
   ],
   "source": [
    "# 차집합\n",
    "print(k1-k2)\n",
    "print(k2-k1)\n",
    "\n",
    "print(k1.difference(k2))        # difference 함수로 차집합 구할수 있음\n",
    "print(k2.difference(k1))"
   ]
  },
  {
   "cell_type": "markdown",
   "metadata": {},
   "source": [
    "### 집합 자료형 관련 함수들"
   ]
  },
  {
   "cell_type": "code",
   "execution_count": 19,
   "metadata": {},
   "outputs": [
    {
     "name": "stdout",
     "output_type": "stream",
     "text": [
      "{2, 4, 5, 7}\n",
      "{2, 4, 5, 7, 'O'}\n"
     ]
    }
   ],
   "source": [
    "# 값 1개 추가하기\n",
    "s1 = set([2,5,7])\n",
    "s1.add(4)\n",
    "print(s1)\n",
    "\n",
    "s1.add('O')\n",
    "print(s1)"
   ]
  },
  {
   "cell_type": "code",
   "execution_count": 20,
   "metadata": {},
   "outputs": [
    {
     "name": "stdout",
     "output_type": "stream",
     "text": [
      "{2, 4, 5, 7, 'O', 'l', 'k'}\n",
      "{1, 2, 4, 5, 6, 7, 'r', 'O', 'h', 'l', 'k'}\n"
     ]
    }
   ],
   "source": [
    "# 값 여러 개 추가하기\n",
    "s1.update('k' , 'l')\n",
    "print(s1)\n",
    "\n",
    "s1.update([7,5,1,6,'h','r'])\n",
    "print(s1)"
   ]
  },
  {
   "cell_type": "code",
   "execution_count": 21,
   "metadata": {},
   "outputs": [
    {
     "name": "stdout",
     "output_type": "stream",
     "text": [
      "{2, 4, 5, 6, 7, 'r', 'O', 'h', 'l', 'k'}\n"
     ]
    }
   ],
   "source": [
    "# 특정 값 제거하기\n",
    "\n",
    "s1.remove(1)\n",
    "print(s1)"
   ]
  },
  {
   "cell_type": "markdown",
   "metadata": {},
   "source": [
    "## 연습문제"
   ]
  },
  {
   "cell_type": "markdown",
   "metadata": {},
   "source": [
    "- [문제1] 집합의 중복\n",
    "- 중복을 허용하지 않는 집합 자료형의 특징을 이용하여 다음 a 리스트에서 중복된 숫자들을 제거해 보자.\n",
    "\n",
    ">a = [1, 1, 1, 2, 2, 3, 3, 3, 4, 4, 5]"
   ]
  },
  {
   "cell_type": "code",
   "execution_count": 22,
   "metadata": {},
   "outputs": [
    {
     "name": "stdout",
     "output_type": "stream",
     "text": [
      "{1, 2, 3, 4, 5}\n",
      "[1, 2, 3, 4, 5]\n"
     ]
    }
   ],
   "source": [
    "a = [1,1,1,2,2,3,3,3,4,4,5]\n",
    "j = set(a)\n",
    "print(j)\n",
    "\n",
    "print(list(j))"
   ]
  },
  {
   "cell_type": "markdown",
   "metadata": {},
   "source": [
    "- [문제2] 집합 만들기\n",
    "\n",
    "    집합 자료형은 다음과 같이 만들 수 있다.\n",
    "\n",
    "> a = {'a', 'b', 'c'}  \n",
    "a  \n",
    "{'a', 'b', 'c'}  \n",
    "type(a)  \n",
    "<class 'set'>  \n",
    "\n",
    "- 값이 하나도 없는 비어있는 set을 만들기 위해 다음과 같이 시도 해 보자.  \n",
    ">a = {}  \n",
    "type(a)  \n",
    "<class 'dict'>"
   ]
  },
  {
   "cell_type": "code",
   "execution_count": 14,
   "metadata": {},
   "outputs": [
    {
     "name": "stdout",
     "output_type": "stream",
     "text": [
      "{'a', 'c', 'b'}\n",
      "<class 'set'>\n",
      "<class 'dict'>\n",
      "<class 'set'>\n"
     ]
    }
   ],
   "source": [
    "a = {'a', 'b', 'c'} # 집합 자료형 만드는 또 하나의 방법.\n",
    "print(a)\n",
    "print(type(a))\n",
    "\n",
    "a = {}\n",
    "print(type(a)) # 딕셔너리로 인식\n",
    "\n",
    "b = set()\n",
    "print(type(b)) # 집합으로 인식"
   ]
  }
 ],
 "metadata": {
  "kernelspec": {
   "display_name": "Python 3",
   "language": "python",
   "name": "python3"
  },
  "language_info": {
   "codemirror_mode": {
    "name": "ipython",
    "version": 3
   },
   "file_extension": ".py",
   "mimetype": "text/x-python",
   "name": "python",
   "nbconvert_exporter": "python",
   "pygments_lexer": "ipython3",
   "version": "3.6.8"
  }
 },
 "nbformat": 4,
 "nbformat_minor": 2
}
